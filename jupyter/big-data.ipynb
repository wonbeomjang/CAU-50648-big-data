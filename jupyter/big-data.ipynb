{
 "cells": [
  {
   "cell_type": "code",
   "execution_count": 1,
   "metadata": {
    "_cell_guid": "b1076dfc-b9ad-4769-8c92-a6c4dae69d19",
    "_uuid": "8f2839f25d086af736a60e9eeb907d3b93b6e0e5",
    "execution": {
     "iopub.execute_input": "2022-10-30T21:35:27.204062Z",
     "iopub.status.busy": "2022-10-30T21:35:27.203638Z",
     "iopub.status.idle": "2022-10-30T21:35:27.739650Z",
     "shell.execute_reply": "2022-10-30T21:35:27.738773Z",
     "shell.execute_reply.started": "2022-10-30T21:35:27.204031Z"
    }
   },
   "outputs": [],
   "source": [
    "import os\n",
    "import pandas as pd\n",
    "import matplotlib.pyplot as plt\n",
    "import seaborn as sns\n",
    "import numpy as np\n",
    "from scipy import stats\n",
    "\n",
    "from sklearn.ensemble import RandomForestRegressor\n",
    "from sklearn.model_selection import KFold\n",
    "from sklearn.metrics import mean_squared_error\n",
    "from sklearn.model_selection import train_test_split\n",
    "\n",
    "df = pd.read_parquet(\"/Users/aiel/Desktop/code/big_data/kaggle-pog-series-s01e01/train.parquet\")"
   ]
  },
  {
   "cell_type": "markdown",
   "metadata": {},
   "source": [
    "# 1. Data Overview"
   ]
  },
  {
   "cell_type": "code",
   "execution_count": 2,
   "metadata": {
    "execution": {
     "iopub.execute_input": "2022-10-30T22:01:56.622739Z",
     "iopub.status.busy": "2022-10-30T22:01:56.622259Z",
     "iopub.status.idle": "2022-10-30T22:01:56.650147Z",
     "shell.execute_reply": "2022-10-30T22:01:56.648648Z",
     "shell.execute_reply.started": "2022-10-30T22:01:56.622702Z"
    }
   },
   "outputs": [
    {
     "data": {
      "text/html": [
       "<div>\n",
       "<style scoped>\n",
       "    .dataframe tbody tr th:only-of-type {\n",
       "        vertical-align: middle;\n",
       "    }\n",
       "\n",
       "    .dataframe tbody tr th {\n",
       "        vertical-align: top;\n",
       "    }\n",
       "\n",
       "    .dataframe thead th {\n",
       "        text-align: right;\n",
       "    }\n",
       "</style>\n",
       "<table border=\"1\" class=\"dataframe\">\n",
       "  <thead>\n",
       "    <tr style=\"text-align: right;\">\n",
       "      <th></th>\n",
       "      <th>video_id</th>\n",
       "      <th>title</th>\n",
       "      <th>publishedAt</th>\n",
       "      <th>channelId</th>\n",
       "      <th>channelTitle</th>\n",
       "      <th>categoryId</th>\n",
       "      <th>trending_date</th>\n",
       "      <th>tags</th>\n",
       "      <th>view_count</th>\n",
       "      <th>likes</th>\n",
       "      <th>dislikes</th>\n",
       "      <th>comment_count</th>\n",
       "      <th>thumbnail_link</th>\n",
       "      <th>comments_disabled</th>\n",
       "      <th>ratings_disabled</th>\n",
       "      <th>description</th>\n",
       "      <th>id</th>\n",
       "      <th>duration_seconds</th>\n",
       "      <th>has_thumbnail</th>\n",
       "      <th>target</th>\n",
       "    </tr>\n",
       "  </thead>\n",
       "  <tbody>\n",
       "    <tr>\n",
       "      <th>0</th>\n",
       "      <td>3C66w5Z0ixs</td>\n",
       "      <td>I ASKED HER TO BE MY GIRLFRIEND...</td>\n",
       "      <td>2020-08-11 19:20:14+00:00</td>\n",
       "      <td>UCvtRTOMP2TqYqu51xNrqAzg</td>\n",
       "      <td>Brawadis</td>\n",
       "      <td>22</td>\n",
       "      <td>2020-08-12</td>\n",
       "      <td>brawadis|prank|basketball|skits|ghost|funny vi...</td>\n",
       "      <td>1514614</td>\n",
       "      <td>156908</td>\n",
       "      <td>5855</td>\n",
       "      <td>35313</td>\n",
       "      <td>https://i.ytimg.com/vi/3C66w5Z0ixs/default.jpg</td>\n",
       "      <td>False</td>\n",
       "      <td>False</td>\n",
       "      <td>SUBSCRIBE to BRAWADIS ▶ http://bit.ly/Subscrib...</td>\n",
       "      <td>3C66w5Z0ixs_2020-08-12</td>\n",
       "      <td>NaN</td>\n",
       "      <td>True</td>\n",
       "      <td>0.103596</td>\n",
       "    </tr>\n",
       "    <tr>\n",
       "      <th>1</th>\n",
       "      <td>M9Pmf9AB4Mo</td>\n",
       "      <td>Apex Legends | Stories from the Outlands – “Th...</td>\n",
       "      <td>2020-08-11 17:00:10+00:00</td>\n",
       "      <td>UC0ZV6M2THA81QT9hrVWJG3A</td>\n",
       "      <td>Apex Legends</td>\n",
       "      <td>20</td>\n",
       "      <td>2020-08-12</td>\n",
       "      <td>Apex Legends|Apex Legends characters|new Apex ...</td>\n",
       "      <td>2381688</td>\n",
       "      <td>146739</td>\n",
       "      <td>2794</td>\n",
       "      <td>16549</td>\n",
       "      <td>https://i.ytimg.com/vi/M9Pmf9AB4Mo/default.jpg</td>\n",
       "      <td>False</td>\n",
       "      <td>False</td>\n",
       "      <td>While running her own modding shop, Ramya Pare...</td>\n",
       "      <td>M9Pmf9AB4Mo_2020-08-12</td>\n",
       "      <td>NaN</td>\n",
       "      <td>True</td>\n",
       "      <td>0.061611</td>\n",
       "    </tr>\n",
       "    <tr>\n",
       "      <th>2</th>\n",
       "      <td>J78aPJ3VyNs</td>\n",
       "      <td>I left youtube for a month and THIS is what ha...</td>\n",
       "      <td>2020-08-11 16:34:06+00:00</td>\n",
       "      <td>UCYzPXprvl5Y-Sf0g4vX-m6g</td>\n",
       "      <td>jacksepticeye</td>\n",
       "      <td>24</td>\n",
       "      <td>2020-08-12</td>\n",
       "      <td>jacksepticeye|funny|funny meme|memes|jacksepti...</td>\n",
       "      <td>2038853</td>\n",
       "      <td>353787</td>\n",
       "      <td>2628</td>\n",
       "      <td>40221</td>\n",
       "      <td>https://i.ytimg.com/vi/J78aPJ3VyNs/default.jpg</td>\n",
       "      <td>False</td>\n",
       "      <td>False</td>\n",
       "      <td>I left youtube for a month and this is what ha...</td>\n",
       "      <td>J78aPJ3VyNs_2020-08-12</td>\n",
       "      <td>NaN</td>\n",
       "      <td>True</td>\n",
       "      <td>0.173523</td>\n",
       "    </tr>\n",
       "    <tr>\n",
       "      <th>3</th>\n",
       "      <td>kXLn3HkpjaA</td>\n",
       "      <td>XXL 2020 Freshman Class Revealed - Official An...</td>\n",
       "      <td>2020-08-11 16:38:55+00:00</td>\n",
       "      <td>UCbg_UMjlHJg_19SZckaKajg</td>\n",
       "      <td>XXL</td>\n",
       "      <td>10</td>\n",
       "      <td>2020-08-12</td>\n",
       "      <td>xxl freshman|xxl freshmen|2020 xxl freshman|20...</td>\n",
       "      <td>496771</td>\n",
       "      <td>23251</td>\n",
       "      <td>1856</td>\n",
       "      <td>7647</td>\n",
       "      <td>https://i.ytimg.com/vi/kXLn3HkpjaA/default.jpg</td>\n",
       "      <td>False</td>\n",
       "      <td>False</td>\n",
       "      <td>Subscribe to XXL → http://bit.ly/subscribe-xxl...</td>\n",
       "      <td>kXLn3HkpjaA_2020-08-12</td>\n",
       "      <td>NaN</td>\n",
       "      <td>True</td>\n",
       "      <td>0.046804</td>\n",
       "    </tr>\n",
       "    <tr>\n",
       "      <th>4</th>\n",
       "      <td>VIUo6yapDbc</td>\n",
       "      <td>Ultimate DIY Home Movie Theater for The LaBran...</td>\n",
       "      <td>2020-08-11 15:10:05+00:00</td>\n",
       "      <td>UCDVPcEbVLQgLZX0Rt6jo34A</td>\n",
       "      <td>Mr. Kate</td>\n",
       "      <td>26</td>\n",
       "      <td>2020-08-12</td>\n",
       "      <td>The LaBrant Family|DIY|Interior Design|Makeove...</td>\n",
       "      <td>1123889</td>\n",
       "      <td>45802</td>\n",
       "      <td>964</td>\n",
       "      <td>2196</td>\n",
       "      <td>https://i.ytimg.com/vi/VIUo6yapDbc/default.jpg</td>\n",
       "      <td>False</td>\n",
       "      <td>False</td>\n",
       "      <td>Transforming The LaBrant Family's empty white ...</td>\n",
       "      <td>VIUo6yapDbc_2020-08-12</td>\n",
       "      <td>NaN</td>\n",
       "      <td>True</td>\n",
       "      <td>0.040753</td>\n",
       "    </tr>\n",
       "  </tbody>\n",
       "</table>\n",
       "</div>"
      ],
      "text/plain": [
       "      video_id                                              title  \\\n",
       "0  3C66w5Z0ixs                 I ASKED HER TO BE MY GIRLFRIEND...   \n",
       "1  M9Pmf9AB4Mo  Apex Legends | Stories from the Outlands – “Th...   \n",
       "2  J78aPJ3VyNs  I left youtube for a month and THIS is what ha...   \n",
       "3  kXLn3HkpjaA  XXL 2020 Freshman Class Revealed - Official An...   \n",
       "4  VIUo6yapDbc  Ultimate DIY Home Movie Theater for The LaBran...   \n",
       "\n",
       "                publishedAt                 channelId   channelTitle  \\\n",
       "0 2020-08-11 19:20:14+00:00  UCvtRTOMP2TqYqu51xNrqAzg       Brawadis   \n",
       "1 2020-08-11 17:00:10+00:00  UC0ZV6M2THA81QT9hrVWJG3A   Apex Legends   \n",
       "2 2020-08-11 16:34:06+00:00  UCYzPXprvl5Y-Sf0g4vX-m6g  jacksepticeye   \n",
       "3 2020-08-11 16:38:55+00:00  UCbg_UMjlHJg_19SZckaKajg            XXL   \n",
       "4 2020-08-11 15:10:05+00:00  UCDVPcEbVLQgLZX0Rt6jo34A       Mr. Kate   \n",
       "\n",
       "   categoryId trending_date  \\\n",
       "0          22    2020-08-12   \n",
       "1          20    2020-08-12   \n",
       "2          24    2020-08-12   \n",
       "3          10    2020-08-12   \n",
       "4          26    2020-08-12   \n",
       "\n",
       "                                                tags  view_count   likes  \\\n",
       "0  brawadis|prank|basketball|skits|ghost|funny vi...     1514614  156908   \n",
       "1  Apex Legends|Apex Legends characters|new Apex ...     2381688  146739   \n",
       "2  jacksepticeye|funny|funny meme|memes|jacksepti...     2038853  353787   \n",
       "3  xxl freshman|xxl freshmen|2020 xxl freshman|20...      496771   23251   \n",
       "4  The LaBrant Family|DIY|Interior Design|Makeove...     1123889   45802   \n",
       "\n",
       "   dislikes  comment_count                                  thumbnail_link  \\\n",
       "0      5855          35313  https://i.ytimg.com/vi/3C66w5Z0ixs/default.jpg   \n",
       "1      2794          16549  https://i.ytimg.com/vi/M9Pmf9AB4Mo/default.jpg   \n",
       "2      2628          40221  https://i.ytimg.com/vi/J78aPJ3VyNs/default.jpg   \n",
       "3      1856           7647  https://i.ytimg.com/vi/kXLn3HkpjaA/default.jpg   \n",
       "4       964           2196  https://i.ytimg.com/vi/VIUo6yapDbc/default.jpg   \n",
       "\n",
       "   comments_disabled  ratings_disabled  \\\n",
       "0              False             False   \n",
       "1              False             False   \n",
       "2              False             False   \n",
       "3              False             False   \n",
       "4              False             False   \n",
       "\n",
       "                                         description                      id  \\\n",
       "0  SUBSCRIBE to BRAWADIS ▶ http://bit.ly/Subscrib...  3C66w5Z0ixs_2020-08-12   \n",
       "1  While running her own modding shop, Ramya Pare...  M9Pmf9AB4Mo_2020-08-12   \n",
       "2  I left youtube for a month and this is what ha...  J78aPJ3VyNs_2020-08-12   \n",
       "3  Subscribe to XXL → http://bit.ly/subscribe-xxl...  kXLn3HkpjaA_2020-08-12   \n",
       "4  Transforming The LaBrant Family's empty white ...  VIUo6yapDbc_2020-08-12   \n",
       "\n",
       "   duration_seconds  has_thumbnail    target  \n",
       "0               NaN           True  0.103596  \n",
       "1               NaN           True  0.061611  \n",
       "2               NaN           True  0.173523  \n",
       "3               NaN           True  0.046804  \n",
       "4               NaN           True  0.040753  "
      ]
     },
     "execution_count": 2,
     "metadata": {},
     "output_type": "execute_result"
    }
   ],
   "source": [
    "df.head()"
   ]
  },
  {
   "cell_type": "code",
   "execution_count": 3,
   "metadata": {},
   "outputs": [
    {
     "data": {
      "text/html": [
       "<div>\n",
       "<style scoped>\n",
       "    .dataframe tbody tr th:only-of-type {\n",
       "        vertical-align: middle;\n",
       "    }\n",
       "\n",
       "    .dataframe tbody tr th {\n",
       "        vertical-align: top;\n",
       "    }\n",
       "\n",
       "    .dataframe thead th {\n",
       "        text-align: right;\n",
       "    }\n",
       "</style>\n",
       "<table border=\"1\" class=\"dataframe\">\n",
       "  <thead>\n",
       "    <tr style=\"text-align: right;\">\n",
       "      <th></th>\n",
       "      <th>index</th>\n",
       "      <th>video_id</th>\n",
       "      <th>title</th>\n",
       "      <th>publishedAt</th>\n",
       "      <th>channelId</th>\n",
       "      <th>channelTitle</th>\n",
       "      <th>categoryId</th>\n",
       "      <th>trending_date</th>\n",
       "      <th>tags</th>\n",
       "      <th>view_count</th>\n",
       "      <th>...</th>\n",
       "      <th>dislikes</th>\n",
       "      <th>comment_count</th>\n",
       "      <th>thumbnail_link</th>\n",
       "      <th>comments_disabled</th>\n",
       "      <th>ratings_disabled</th>\n",
       "      <th>description</th>\n",
       "      <th>id</th>\n",
       "      <th>duration_seconds</th>\n",
       "      <th>has_thumbnail</th>\n",
       "      <th>target</th>\n",
       "    </tr>\n",
       "  </thead>\n",
       "  <tbody>\n",
       "    <tr>\n",
       "      <th>0</th>\n",
       "      <td>0</td>\n",
       "      <td>3C66w5Z0ixs</td>\n",
       "      <td>I ASKED HER TO BE MY GIRLFRIEND...</td>\n",
       "      <td>2020-08-11 19:20:14+00:00</td>\n",
       "      <td>UCvtRTOMP2TqYqu51xNrqAzg</td>\n",
       "      <td>Brawadis</td>\n",
       "      <td>22</td>\n",
       "      <td>2020-08-12</td>\n",
       "      <td>brawadis|prank|basketball|skits|ghost|funny vi...</td>\n",
       "      <td>1514614</td>\n",
       "      <td>...</td>\n",
       "      <td>5855</td>\n",
       "      <td>35313</td>\n",
       "      <td>https://i.ytimg.com/vi/3C66w5Z0ixs/default.jpg</td>\n",
       "      <td>False</td>\n",
       "      <td>False</td>\n",
       "      <td>SUBSCRIBE to BRAWADIS ▶ http://bit.ly/Subscrib...</td>\n",
       "      <td>3C66w5Z0ixs_2020-08-12</td>\n",
       "      <td>NaN</td>\n",
       "      <td>True</td>\n",
       "      <td>0.103596</td>\n",
       "    </tr>\n",
       "    <tr>\n",
       "      <th>1</th>\n",
       "      <td>1</td>\n",
       "      <td>M9Pmf9AB4Mo</td>\n",
       "      <td>Apex Legends | Stories from the Outlands – “Th...</td>\n",
       "      <td>2020-08-11 17:00:10+00:00</td>\n",
       "      <td>UC0ZV6M2THA81QT9hrVWJG3A</td>\n",
       "      <td>Apex Legends</td>\n",
       "      <td>20</td>\n",
       "      <td>2020-08-12</td>\n",
       "      <td>Apex Legends|Apex Legends characters|new Apex ...</td>\n",
       "      <td>2381688</td>\n",
       "      <td>...</td>\n",
       "      <td>2794</td>\n",
       "      <td>16549</td>\n",
       "      <td>https://i.ytimg.com/vi/M9Pmf9AB4Mo/default.jpg</td>\n",
       "      <td>False</td>\n",
       "      <td>False</td>\n",
       "      <td>While running her own modding shop, Ramya Pare...</td>\n",
       "      <td>M9Pmf9AB4Mo_2020-08-12</td>\n",
       "      <td>NaN</td>\n",
       "      <td>True</td>\n",
       "      <td>0.061611</td>\n",
       "    </tr>\n",
       "    <tr>\n",
       "      <th>2</th>\n",
       "      <td>2</td>\n",
       "      <td>J78aPJ3VyNs</td>\n",
       "      <td>I left youtube for a month and THIS is what ha...</td>\n",
       "      <td>2020-08-11 16:34:06+00:00</td>\n",
       "      <td>UCYzPXprvl5Y-Sf0g4vX-m6g</td>\n",
       "      <td>jacksepticeye</td>\n",
       "      <td>24</td>\n",
       "      <td>2020-08-12</td>\n",
       "      <td>jacksepticeye|funny|funny meme|memes|jacksepti...</td>\n",
       "      <td>2038853</td>\n",
       "      <td>...</td>\n",
       "      <td>2628</td>\n",
       "      <td>40221</td>\n",
       "      <td>https://i.ytimg.com/vi/J78aPJ3VyNs/default.jpg</td>\n",
       "      <td>False</td>\n",
       "      <td>False</td>\n",
       "      <td>I left youtube for a month and this is what ha...</td>\n",
       "      <td>J78aPJ3VyNs_2020-08-12</td>\n",
       "      <td>NaN</td>\n",
       "      <td>True</td>\n",
       "      <td>0.173523</td>\n",
       "    </tr>\n",
       "    <tr>\n",
       "      <th>3</th>\n",
       "      <td>3</td>\n",
       "      <td>kXLn3HkpjaA</td>\n",
       "      <td>XXL 2020 Freshman Class Revealed - Official An...</td>\n",
       "      <td>2020-08-11 16:38:55+00:00</td>\n",
       "      <td>UCbg_UMjlHJg_19SZckaKajg</td>\n",
       "      <td>XXL</td>\n",
       "      <td>10</td>\n",
       "      <td>2020-08-12</td>\n",
       "      <td>xxl freshman|xxl freshmen|2020 xxl freshman|20...</td>\n",
       "      <td>496771</td>\n",
       "      <td>...</td>\n",
       "      <td>1856</td>\n",
       "      <td>7647</td>\n",
       "      <td>https://i.ytimg.com/vi/kXLn3HkpjaA/default.jpg</td>\n",
       "      <td>False</td>\n",
       "      <td>False</td>\n",
       "      <td>Subscribe to XXL → http://bit.ly/subscribe-xxl...</td>\n",
       "      <td>kXLn3HkpjaA_2020-08-12</td>\n",
       "      <td>NaN</td>\n",
       "      <td>True</td>\n",
       "      <td>0.046804</td>\n",
       "    </tr>\n",
       "    <tr>\n",
       "      <th>4</th>\n",
       "      <td>4</td>\n",
       "      <td>VIUo6yapDbc</td>\n",
       "      <td>Ultimate DIY Home Movie Theater for The LaBran...</td>\n",
       "      <td>2020-08-11 15:10:05+00:00</td>\n",
       "      <td>UCDVPcEbVLQgLZX0Rt6jo34A</td>\n",
       "      <td>Mr. Kate</td>\n",
       "      <td>26</td>\n",
       "      <td>2020-08-12</td>\n",
       "      <td>The LaBrant Family|DIY|Interior Design|Makeove...</td>\n",
       "      <td>1123889</td>\n",
       "      <td>...</td>\n",
       "      <td>964</td>\n",
       "      <td>2196</td>\n",
       "      <td>https://i.ytimg.com/vi/VIUo6yapDbc/default.jpg</td>\n",
       "      <td>False</td>\n",
       "      <td>False</td>\n",
       "      <td>Transforming The LaBrant Family's empty white ...</td>\n",
       "      <td>VIUo6yapDbc_2020-08-12</td>\n",
       "      <td>NaN</td>\n",
       "      <td>True</td>\n",
       "      <td>0.040753</td>\n",
       "    </tr>\n",
       "    <tr>\n",
       "      <th>...</th>\n",
       "      <td>...</td>\n",
       "      <td>...</td>\n",
       "      <td>...</td>\n",
       "      <td>...</td>\n",
       "      <td>...</td>\n",
       "      <td>...</td>\n",
       "      <td>...</td>\n",
       "      <td>...</td>\n",
       "      <td>...</td>\n",
       "      <td>...</td>\n",
       "      <td>...</td>\n",
       "      <td>...</td>\n",
       "      <td>...</td>\n",
       "      <td>...</td>\n",
       "      <td>...</td>\n",
       "      <td>...</td>\n",
       "      <td>...</td>\n",
       "      <td>...</td>\n",
       "      <td>...</td>\n",
       "      <td>...</td>\n",
       "      <td>...</td>\n",
       "    </tr>\n",
       "    <tr>\n",
       "      <th>16964</th>\n",
       "      <td>92132</td>\n",
       "      <td>PACbvzj_H4U</td>\n",
       "      <td>POST FIGHT Kambosos: Teofimo DELUSIONAL, Lopez...</td>\n",
       "      <td>2021-11-28 21:45:35+00:00</td>\n",
       "      <td>UCEVVENPnHv-kcp2PqQuJvHg</td>\n",
       "      <td>SecondsOut</td>\n",
       "      <td>17</td>\n",
       "      <td>2021-11-30</td>\n",
       "      <td>boxing|secondsout|seconds out|combat|sport|spo...</td>\n",
       "      <td>235053</td>\n",
       "      <td>...</td>\n",
       "      <td>150</td>\n",
       "      <td>1785</td>\n",
       "      <td>https://i.ytimg.com/vi/PACbvzj_H4U/default.jpg</td>\n",
       "      <td>False</td>\n",
       "      <td>False</td>\n",
       "      <td>Radio Rahim interviews George Kambosos vs Teof...</td>\n",
       "      <td>PACbvzj_H4U_2021-11-30</td>\n",
       "      <td>1115.0</td>\n",
       "      <td>True</td>\n",
       "      <td>0.022455</td>\n",
       "    </tr>\n",
       "    <tr>\n",
       "      <th>16965</th>\n",
       "      <td>92134</td>\n",
       "      <td>aGbRzWIq9Fs</td>\n",
       "      <td>Tom Brady on Comeback Win Over the Colts | Pre...</td>\n",
       "      <td>2021-11-28 23:24:36+00:00</td>\n",
       "      <td>UC0Wwu7r1ybaaR09ANhudTzA</td>\n",
       "      <td>Tampa Bay Buccaneers</td>\n",
       "      <td>17</td>\n",
       "      <td>2021-11-30</td>\n",
       "      <td>Tampa Bay Buccaneers|Bucs|Buccaneers|NFL</td>\n",
       "      <td>100936</td>\n",
       "      <td>...</td>\n",
       "      <td>24</td>\n",
       "      <td>229</td>\n",
       "      <td>https://i.ytimg.com/vi/aGbRzWIq9Fs/default.jpg</td>\n",
       "      <td>False</td>\n",
       "      <td>False</td>\n",
       "      <td>Quarterback Tom Brady spoke to the media follo...</td>\n",
       "      <td>aGbRzWIq9Fs_2021-11-30</td>\n",
       "      <td>305.0</td>\n",
       "      <td>True</td>\n",
       "      <td>0.014197</td>\n",
       "    </tr>\n",
       "    <tr>\n",
       "      <th>16966</th>\n",
       "      <td>92143</td>\n",
       "      <td>B5DWe7EWh1Y</td>\n",
       "      <td>Maxwell Celebrates Living Legend Award With Pe...</td>\n",
       "      <td>2021-11-29 03:36:07+00:00</td>\n",
       "      <td>UCcVqCJ_9owb1zM43vqswMNQ</td>\n",
       "      <td>BETNetworks</td>\n",
       "      <td>24</td>\n",
       "      <td>2021-11-30</td>\n",
       "      <td>BET|BET Networks|BET Music|Black Entertainment...</td>\n",
       "      <td>356902</td>\n",
       "      <td>...</td>\n",
       "      <td>123</td>\n",
       "      <td>1979</td>\n",
       "      <td>https://i.ytimg.com/vi/B5DWe7EWh1Y/default.jpg</td>\n",
       "      <td>False</td>\n",
       "      <td>False</td>\n",
       "      <td>Maxwell performed some of his biggest hits whi...</td>\n",
       "      <td>B5DWe7EWh1Y_2021-11-30</td>\n",
       "      <td>654.0</td>\n",
       "      <td>True</td>\n",
       "      <td>0.044847</td>\n",
       "    </tr>\n",
       "    <tr>\n",
       "      <th>16967</th>\n",
       "      <td>92154</td>\n",
       "      <td>LgKVsV8593U</td>\n",
       "      <td>Huge Stealth Change in Warzone After 18 Months...</td>\n",
       "      <td>2021-11-29 17:18:32+00:00</td>\n",
       "      <td>UCG0yjoHan7kXjROe0JgvhzQ</td>\n",
       "      <td>JGOD</td>\n",
       "      <td>20</td>\n",
       "      <td>2021-11-30</td>\n",
       "      <td>best rifle mw|best weapons mw|Best rifles mw|b...</td>\n",
       "      <td>169103</td>\n",
       "      <td>...</td>\n",
       "      <td>117</td>\n",
       "      <td>521</td>\n",
       "      <td>https://i.ytimg.com/vi/LgKVsV8593U/default.jpg</td>\n",
       "      <td>False</td>\n",
       "      <td>False</td>\n",
       "      <td>Explaining how they Changed the UAV in Warzone...</td>\n",
       "      <td>LgKVsV8593U_2021-11-30</td>\n",
       "      <td>201.0</td>\n",
       "      <td>True</td>\n",
       "      <td>0.034399</td>\n",
       "    </tr>\n",
       "    <tr>\n",
       "      <th>16968</th>\n",
       "      <td>92165</td>\n",
       "      <td>BtPqxeTT61Y</td>\n",
       "      <td>13 AGAIN 🎂❗️❗️ ❗️ | Ep.1 Kinigra Turned 13 Aga...</td>\n",
       "      <td>2021-11-29 00:30:02+00:00</td>\n",
       "      <td>UC9HvSOvNpFpjydzDkAQJCNw</td>\n",
       "      <td>Kinigra Deon</td>\n",
       "      <td>24</td>\n",
       "      <td>2021-11-30</td>\n",
       "      <td>Comedy|comedy videos|kinigra deon|monnie drea|...</td>\n",
       "      <td>504612</td>\n",
       "      <td>...</td>\n",
       "      <td>281</td>\n",
       "      <td>1457</td>\n",
       "      <td>https://i.ytimg.com/vi/BtPqxeTT61Y/default.jpg</td>\n",
       "      <td>False</td>\n",
       "      <td>False</td>\n",
       "      <td>IT'S MY BIRTHDAY!!! NOV. 28!!! Comment Happy B...</td>\n",
       "      <td>BtPqxeTT61Y_2021-11-30</td>\n",
       "      <td>666.0</td>\n",
       "      <td>True</td>\n",
       "      <td>0.023662</td>\n",
       "    </tr>\n",
       "  </tbody>\n",
       "</table>\n",
       "<p>16969 rows × 21 columns</p>\n",
       "</div>"
      ],
      "text/plain": [
       "       index     video_id                                              title  \\\n",
       "0          0  3C66w5Z0ixs                 I ASKED HER TO BE MY GIRLFRIEND...   \n",
       "1          1  M9Pmf9AB4Mo  Apex Legends | Stories from the Outlands – “Th...   \n",
       "2          2  J78aPJ3VyNs  I left youtube for a month and THIS is what ha...   \n",
       "3          3  kXLn3HkpjaA  XXL 2020 Freshman Class Revealed - Official An...   \n",
       "4          4  VIUo6yapDbc  Ultimate DIY Home Movie Theater for The LaBran...   \n",
       "...      ...          ...                                                ...   \n",
       "16964  92132  PACbvzj_H4U  POST FIGHT Kambosos: Teofimo DELUSIONAL, Lopez...   \n",
       "16965  92134  aGbRzWIq9Fs  Tom Brady on Comeback Win Over the Colts | Pre...   \n",
       "16966  92143  B5DWe7EWh1Y  Maxwell Celebrates Living Legend Award With Pe...   \n",
       "16967  92154  LgKVsV8593U  Huge Stealth Change in Warzone After 18 Months...   \n",
       "16968  92165  BtPqxeTT61Y  13 AGAIN 🎂❗️❗️ ❗️ | Ep.1 Kinigra Turned 13 Aga...   \n",
       "\n",
       "                    publishedAt                 channelId  \\\n",
       "0     2020-08-11 19:20:14+00:00  UCvtRTOMP2TqYqu51xNrqAzg   \n",
       "1     2020-08-11 17:00:10+00:00  UC0ZV6M2THA81QT9hrVWJG3A   \n",
       "2     2020-08-11 16:34:06+00:00  UCYzPXprvl5Y-Sf0g4vX-m6g   \n",
       "3     2020-08-11 16:38:55+00:00  UCbg_UMjlHJg_19SZckaKajg   \n",
       "4     2020-08-11 15:10:05+00:00  UCDVPcEbVLQgLZX0Rt6jo34A   \n",
       "...                         ...                       ...   \n",
       "16964 2021-11-28 21:45:35+00:00  UCEVVENPnHv-kcp2PqQuJvHg   \n",
       "16965 2021-11-28 23:24:36+00:00  UC0Wwu7r1ybaaR09ANhudTzA   \n",
       "16966 2021-11-29 03:36:07+00:00  UCcVqCJ_9owb1zM43vqswMNQ   \n",
       "16967 2021-11-29 17:18:32+00:00  UCG0yjoHan7kXjROe0JgvhzQ   \n",
       "16968 2021-11-29 00:30:02+00:00  UC9HvSOvNpFpjydzDkAQJCNw   \n",
       "\n",
       "               channelTitle  categoryId trending_date  \\\n",
       "0                  Brawadis          22    2020-08-12   \n",
       "1              Apex Legends          20    2020-08-12   \n",
       "2             jacksepticeye          24    2020-08-12   \n",
       "3                       XXL          10    2020-08-12   \n",
       "4                  Mr. Kate          26    2020-08-12   \n",
       "...                     ...         ...           ...   \n",
       "16964            SecondsOut          17    2021-11-30   \n",
       "16965  Tampa Bay Buccaneers          17    2021-11-30   \n",
       "16966           BETNetworks          24    2021-11-30   \n",
       "16967                  JGOD          20    2021-11-30   \n",
       "16968          Kinigra Deon          24    2021-11-30   \n",
       "\n",
       "                                                    tags  view_count  ...  \\\n",
       "0      brawadis|prank|basketball|skits|ghost|funny vi...     1514614  ...   \n",
       "1      Apex Legends|Apex Legends characters|new Apex ...     2381688  ...   \n",
       "2      jacksepticeye|funny|funny meme|memes|jacksepti...     2038853  ...   \n",
       "3      xxl freshman|xxl freshmen|2020 xxl freshman|20...      496771  ...   \n",
       "4      The LaBrant Family|DIY|Interior Design|Makeove...     1123889  ...   \n",
       "...                                                  ...         ...  ...   \n",
       "16964  boxing|secondsout|seconds out|combat|sport|spo...      235053  ...   \n",
       "16965           Tampa Bay Buccaneers|Bucs|Buccaneers|NFL      100936  ...   \n",
       "16966  BET|BET Networks|BET Music|Black Entertainment...      356902  ...   \n",
       "16967  best rifle mw|best weapons mw|Best rifles mw|b...      169103  ...   \n",
       "16968  Comedy|comedy videos|kinigra deon|monnie drea|...      504612  ...   \n",
       "\n",
       "       dislikes  comment_count  \\\n",
       "0          5855          35313   \n",
       "1          2794          16549   \n",
       "2          2628          40221   \n",
       "3          1856           7647   \n",
       "4           964           2196   \n",
       "...         ...            ...   \n",
       "16964       150           1785   \n",
       "16965        24            229   \n",
       "16966       123           1979   \n",
       "16967       117            521   \n",
       "16968       281           1457   \n",
       "\n",
       "                                       thumbnail_link comments_disabled  \\\n",
       "0      https://i.ytimg.com/vi/3C66w5Z0ixs/default.jpg             False   \n",
       "1      https://i.ytimg.com/vi/M9Pmf9AB4Mo/default.jpg             False   \n",
       "2      https://i.ytimg.com/vi/J78aPJ3VyNs/default.jpg             False   \n",
       "3      https://i.ytimg.com/vi/kXLn3HkpjaA/default.jpg             False   \n",
       "4      https://i.ytimg.com/vi/VIUo6yapDbc/default.jpg             False   \n",
       "...                                               ...               ...   \n",
       "16964  https://i.ytimg.com/vi/PACbvzj_H4U/default.jpg             False   \n",
       "16965  https://i.ytimg.com/vi/aGbRzWIq9Fs/default.jpg             False   \n",
       "16966  https://i.ytimg.com/vi/B5DWe7EWh1Y/default.jpg             False   \n",
       "16967  https://i.ytimg.com/vi/LgKVsV8593U/default.jpg             False   \n",
       "16968  https://i.ytimg.com/vi/BtPqxeTT61Y/default.jpg             False   \n",
       "\n",
       "       ratings_disabled                                        description  \\\n",
       "0                 False  SUBSCRIBE to BRAWADIS ▶ http://bit.ly/Subscrib...   \n",
       "1                 False  While running her own modding shop, Ramya Pare...   \n",
       "2                 False  I left youtube for a month and this is what ha...   \n",
       "3                 False  Subscribe to XXL → http://bit.ly/subscribe-xxl...   \n",
       "4                 False  Transforming The LaBrant Family's empty white ...   \n",
       "...                 ...                                                ...   \n",
       "16964             False  Radio Rahim interviews George Kambosos vs Teof...   \n",
       "16965             False  Quarterback Tom Brady spoke to the media follo...   \n",
       "16966             False  Maxwell performed some of his biggest hits whi...   \n",
       "16967             False  Explaining how they Changed the UAV in Warzone...   \n",
       "16968             False  IT'S MY BIRTHDAY!!! NOV. 28!!! Comment Happy B...   \n",
       "\n",
       "                           id duration_seconds  has_thumbnail    target  \n",
       "0      3C66w5Z0ixs_2020-08-12              NaN           True  0.103596  \n",
       "1      M9Pmf9AB4Mo_2020-08-12              NaN           True  0.061611  \n",
       "2      J78aPJ3VyNs_2020-08-12              NaN           True  0.173523  \n",
       "3      kXLn3HkpjaA_2020-08-12              NaN           True  0.046804  \n",
       "4      VIUo6yapDbc_2020-08-12              NaN           True  0.040753  \n",
       "...                       ...              ...            ...       ...  \n",
       "16964  PACbvzj_H4U_2021-11-30           1115.0           True  0.022455  \n",
       "16965  aGbRzWIq9Fs_2021-11-30            305.0           True  0.014197  \n",
       "16966  B5DWe7EWh1Y_2021-11-30            654.0           True  0.044847  \n",
       "16967  LgKVsV8593U_2021-11-30            201.0           True  0.034399  \n",
       "16968  BtPqxeTT61Y_2021-11-30            666.0           True  0.023662  \n",
       "\n",
       "[16969 rows x 21 columns]"
      ]
     },
     "execution_count": 3,
     "metadata": {},
     "output_type": "execute_result"
    }
   ],
   "source": [
    "df[\"video_id\"].duplicated().value_counts()\n",
    "df = df.drop_duplicates([\"video_id\"])[:]\n",
    "df = df.reset_index()\n",
    "df"
   ]
  },
  {
   "cell_type": "code",
   "execution_count": 4,
   "metadata": {
    "execution": {
     "iopub.execute_input": "2022-10-30T21:35:27.742146Z",
     "iopub.status.busy": "2022-10-30T21:35:27.741156Z",
     "iopub.status.idle": "2022-10-30T21:35:27.801002Z",
     "shell.execute_reply": "2022-10-30T21:35:27.799773Z",
     "shell.execute_reply.started": "2022-10-30T21:35:27.742112Z"
    }
   },
   "outputs": [
    {
     "data": {
      "text/html": [
       "<div>\n",
       "<style scoped>\n",
       "    .dataframe tbody tr th:only-of-type {\n",
       "        vertical-align: middle;\n",
       "    }\n",
       "\n",
       "    .dataframe tbody tr th {\n",
       "        vertical-align: top;\n",
       "    }\n",
       "\n",
       "    .dataframe thead th {\n",
       "        text-align: right;\n",
       "    }\n",
       "</style>\n",
       "<table border=\"1\" class=\"dataframe\">\n",
       "  <thead>\n",
       "    <tr style=\"text-align: right;\">\n",
       "      <th></th>\n",
       "      <th>index</th>\n",
       "      <th>categoryId</th>\n",
       "      <th>view_count</th>\n",
       "      <th>likes</th>\n",
       "      <th>dislikes</th>\n",
       "      <th>comment_count</th>\n",
       "      <th>duration_seconds</th>\n",
       "      <th>target</th>\n",
       "    </tr>\n",
       "  </thead>\n",
       "  <tbody>\n",
       "    <tr>\n",
       "      <th>count</th>\n",
       "      <td>16969.000000</td>\n",
       "      <td>16969.000000</td>\n",
       "      <td>1.696900e+04</td>\n",
       "      <td>1.696900e+04</td>\n",
       "      <td>16969.000000</td>\n",
       "      <td>1.696900e+04</td>\n",
       "      <td>16530.000000</td>\n",
       "      <td>16969.000000</td>\n",
       "    </tr>\n",
       "    <tr>\n",
       "      <th>mean</th>\n",
       "      <td>46780.300371</td>\n",
       "      <td>18.763215</td>\n",
       "      <td>1.329921e+06</td>\n",
       "      <td>9.631118e+04</td>\n",
       "      <td>1507.134657</td>\n",
       "      <td>9.141133e+03</td>\n",
       "      <td>734.765336</td>\n",
       "      <td>0.068937</td>\n",
       "    </tr>\n",
       "    <tr>\n",
       "      <th>std</th>\n",
       "      <td>27744.674607</td>\n",
       "      <td>6.780169</td>\n",
       "      <td>2.739764e+06</td>\n",
       "      <td>2.513194e+05</td>\n",
       "      <td>5719.610494</td>\n",
       "      <td>5.552555e+04</td>\n",
       "      <td>4921.824154</td>\n",
       "      <td>0.050844</td>\n",
       "    </tr>\n",
       "    <tr>\n",
       "      <th>min</th>\n",
       "      <td>0.000000</td>\n",
       "      <td>1.000000</td>\n",
       "      <td>3.851000e+04</td>\n",
       "      <td>0.000000e+00</td>\n",
       "      <td>0.000000</td>\n",
       "      <td>0.000000e+00</td>\n",
       "      <td>3.000000</td>\n",
       "      <td>0.000000</td>\n",
       "    </tr>\n",
       "    <tr>\n",
       "      <th>25%</th>\n",
       "      <td>21607.000000</td>\n",
       "      <td>17.000000</td>\n",
       "      <td>3.302460e+05</td>\n",
       "      <td>1.500100e+04</td>\n",
       "      <td>235.000000</td>\n",
       "      <td>1.250000e+03</td>\n",
       "      <td>179.000000</td>\n",
       "      <td>0.031127</td>\n",
       "    </tr>\n",
       "    <tr>\n",
       "      <th>50%</th>\n",
       "      <td>48383.000000</td>\n",
       "      <td>20.000000</td>\n",
       "      <td>6.366230e+05</td>\n",
       "      <td>3.460700e+04</td>\n",
       "      <td>512.000000</td>\n",
       "      <td>2.785000e+03</td>\n",
       "      <td>430.000000</td>\n",
       "      <td>0.061052</td>\n",
       "    </tr>\n",
       "    <tr>\n",
       "      <th>75%</th>\n",
       "      <td>71289.000000</td>\n",
       "      <td>24.000000</td>\n",
       "      <td>1.355043e+06</td>\n",
       "      <td>8.527800e+04</td>\n",
       "      <td>1275.000000</td>\n",
       "      <td>6.550000e+03</td>\n",
       "      <td>843.000000</td>\n",
       "      <td>0.091314</td>\n",
       "    </tr>\n",
       "    <tr>\n",
       "      <th>max</th>\n",
       "      <td>92165.000000</td>\n",
       "      <td>29.000000</td>\n",
       "      <td>8.589037e+07</td>\n",
       "      <td>7.110071e+06</td>\n",
       "      <td>405329.000000</td>\n",
       "      <td>3.400291e+06</td>\n",
       "      <td>485620.000000</td>\n",
       "      <td>0.433503</td>\n",
       "    </tr>\n",
       "  </tbody>\n",
       "</table>\n",
       "</div>"
      ],
      "text/plain": [
       "              index    categoryId    view_count         likes       dislikes  \\\n",
       "count  16969.000000  16969.000000  1.696900e+04  1.696900e+04   16969.000000   \n",
       "mean   46780.300371     18.763215  1.329921e+06  9.631118e+04    1507.134657   \n",
       "std    27744.674607      6.780169  2.739764e+06  2.513194e+05    5719.610494   \n",
       "min        0.000000      1.000000  3.851000e+04  0.000000e+00       0.000000   \n",
       "25%    21607.000000     17.000000  3.302460e+05  1.500100e+04     235.000000   \n",
       "50%    48383.000000     20.000000  6.366230e+05  3.460700e+04     512.000000   \n",
       "75%    71289.000000     24.000000  1.355043e+06  8.527800e+04    1275.000000   \n",
       "max    92165.000000     29.000000  8.589037e+07  7.110071e+06  405329.000000   \n",
       "\n",
       "       comment_count  duration_seconds        target  \n",
       "count   1.696900e+04      16530.000000  16969.000000  \n",
       "mean    9.141133e+03        734.765336      0.068937  \n",
       "std     5.552555e+04       4921.824154      0.050844  \n",
       "min     0.000000e+00          3.000000      0.000000  \n",
       "25%     1.250000e+03        179.000000      0.031127  \n",
       "50%     2.785000e+03        430.000000      0.061052  \n",
       "75%     6.550000e+03        843.000000      0.091314  \n",
       "max     3.400291e+06     485620.000000      0.433503  "
      ]
     },
     "execution_count": 4,
     "metadata": {},
     "output_type": "execute_result"
    }
   ],
   "source": [
    "df.describe()"
   ]
  },
  {
   "cell_type": "code",
   "execution_count": 5,
   "metadata": {
    "execution": {
     "iopub.execute_input": "2022-10-30T21:35:27.802702Z",
     "iopub.status.busy": "2022-10-30T21:35:27.802267Z",
     "iopub.status.idle": "2022-10-30T21:35:27.810845Z",
     "shell.execute_reply": "2022-10-30T21:35:27.809867Z",
     "shell.execute_reply.started": "2022-10-30T21:35:27.802671Z"
    }
   },
   "outputs": [
    {
     "data": {
      "text/plain": [
       "index                              int64\n",
       "video_id                          object\n",
       "title                             object\n",
       "publishedAt          datetime64[ns, UTC]\n",
       "channelId                         object\n",
       "channelTitle                      object\n",
       "categoryId                         int64\n",
       "trending_date             datetime64[ns]\n",
       "tags                              object\n",
       "view_count                         int64\n",
       "likes                              int64\n",
       "dislikes                           int64\n",
       "comment_count                      int64\n",
       "thumbnail_link                    object\n",
       "comments_disabled                   bool\n",
       "ratings_disabled                    bool\n",
       "description                       object\n",
       "id                                object\n",
       "duration_seconds                 float64\n",
       "has_thumbnail                       bool\n",
       "target                           float64\n",
       "dtype: object"
      ]
     },
     "execution_count": 5,
     "metadata": {},
     "output_type": "execute_result"
    }
   ],
   "source": [
    "df.dtypes"
   ]
  },
  {
   "cell_type": "code",
   "execution_count": 6,
   "metadata": {
    "execution": {
     "iopub.execute_input": "2022-10-30T21:35:27.813970Z",
     "iopub.status.busy": "2022-10-30T21:35:27.813196Z",
     "iopub.status.idle": "2022-10-30T21:35:27.903446Z",
     "shell.execute_reply": "2022-10-30T21:35:27.902485Z",
     "shell.execute_reply.started": "2022-10-30T21:35:27.813930Z"
    }
   },
   "outputs": [
    {
     "data": {
      "text/plain": [
       "index                0.000000\n",
       "video_id             0.000000\n",
       "title                0.000000\n",
       "publishedAt          0.000000\n",
       "channelId            0.000000\n",
       "channelTitle         0.000000\n",
       "categoryId           0.000000\n",
       "trending_date        0.000000\n",
       "tags                 0.000000\n",
       "view_count           0.000000\n",
       "likes                0.000000\n",
       "dislikes             0.000000\n",
       "comment_count        0.000000\n",
       "thumbnail_link       0.000000\n",
       "comments_disabled    0.000000\n",
       "ratings_disabled     0.000000\n",
       "description          0.018622\n",
       "id                   0.000000\n",
       "duration_seconds     0.025871\n",
       "has_thumbnail        0.000000\n",
       "target               0.000000\n",
       "dtype: float64"
      ]
     },
     "execution_count": 6,
     "metadata": {},
     "output_type": "execute_result"
    }
   ],
   "source": [
    "df.isna().sum() / len(df)"
   ]
  },
  {
   "cell_type": "markdown",
   "metadata": {},
   "source": [
    "description과 duration_seconds에 null value 존재  \n",
    "전체 데이터의 1~2% 수준이라 제거"
   ]
  },
  {
   "cell_type": "code",
   "execution_count": 7,
   "metadata": {
    "execution": {
     "iopub.execute_input": "2022-10-30T21:35:27.906027Z",
     "iopub.status.busy": "2022-10-30T21:35:27.905268Z",
     "iopub.status.idle": "2022-10-30T21:35:28.088414Z",
     "shell.execute_reply": "2022-10-30T21:35:28.087155Z",
     "shell.execute_reply.started": "2022-10-30T21:35:27.905989Z"
    }
   },
   "outputs": [
    {
     "data": {
      "text/plain": [
       "index                0.0\n",
       "video_id             0.0\n",
       "title                0.0\n",
       "publishedAt          0.0\n",
       "channelId            0.0\n",
       "channelTitle         0.0\n",
       "categoryId           0.0\n",
       "trending_date        0.0\n",
       "tags                 0.0\n",
       "view_count           0.0\n",
       "likes                0.0\n",
       "dislikes             0.0\n",
       "comment_count        0.0\n",
       "thumbnail_link       0.0\n",
       "comments_disabled    0.0\n",
       "ratings_disabled     0.0\n",
       "description          0.0\n",
       "id                   0.0\n",
       "duration_seconds     0.0\n",
       "has_thumbnail        0.0\n",
       "target               0.0\n",
       "dtype: float64"
      ]
     },
     "execution_count": 7,
     "metadata": {},
     "output_type": "execute_result"
    }
   ],
   "source": [
    "df = df.dropna()\n",
    "df.isna().sum() / len(df)"
   ]
  },
  {
   "cell_type": "markdown",
   "metadata": {},
   "source": [
    "# 1. Numberic"
   ]
  },
  {
   "cell_type": "code",
   "execution_count": 8,
   "metadata": {},
   "outputs": [
    {
     "data": {
      "text/html": [
       "<div>\n",
       "<style scoped>\n",
       "    .dataframe tbody tr th:only-of-type {\n",
       "        vertical-align: middle;\n",
       "    }\n",
       "\n",
       "    .dataframe tbody tr th {\n",
       "        vertical-align: top;\n",
       "    }\n",
       "\n",
       "    .dataframe thead th {\n",
       "        text-align: right;\n",
       "    }\n",
       "</style>\n",
       "<table border=\"1\" class=\"dataframe\">\n",
       "  <thead>\n",
       "    <tr style=\"text-align: right;\">\n",
       "      <th></th>\n",
       "      <th>level_0</th>\n",
       "      <th>index</th>\n",
       "      <th>video_id</th>\n",
       "      <th>title</th>\n",
       "      <th>publishedAt</th>\n",
       "      <th>channelId</th>\n",
       "      <th>channelTitle</th>\n",
       "      <th>categoryId</th>\n",
       "      <th>trending_date</th>\n",
       "      <th>tags</th>\n",
       "      <th>...</th>\n",
       "      <th>dislikes</th>\n",
       "      <th>comment_count</th>\n",
       "      <th>thumbnail_link</th>\n",
       "      <th>comments_disabled</th>\n",
       "      <th>ratings_disabled</th>\n",
       "      <th>description</th>\n",
       "      <th>id</th>\n",
       "      <th>duration_seconds</th>\n",
       "      <th>has_thumbnail</th>\n",
       "      <th>target</th>\n",
       "    </tr>\n",
       "  </thead>\n",
       "  <tbody>\n",
       "    <tr>\n",
       "      <th>0</th>\n",
       "      <td>10711</td>\n",
       "      <td>60554</td>\n",
       "      <td>ZLbt0gPi5b0</td>\n",
       "      <td>Ariel Helwani’s next chapter(s). Here’s where ...</td>\n",
       "      <td>2021-06-21 14:00:29+00:00</td>\n",
       "      <td>UCVOdVp54jLrFhRUm4S29HeA</td>\n",
       "      <td>Ariel Helwani</td>\n",
       "      <td>17</td>\n",
       "      <td>2021-06-23</td>\n",
       "      <td>ariel helwani|mma|the mma hour|the mixed marti...</td>\n",
       "      <td>...</td>\n",
       "      <td>124</td>\n",
       "      <td>929</td>\n",
       "      <td>https://i.ytimg.com/vi/ZLbt0gPi5b0/default.jpg</td>\n",
       "      <td>False</td>\n",
       "      <td>False</td>\n",
       "      <td>Thank you for the support. I am extremely exci...</td>\n",
       "      <td>ZLbt0gPi5b0_2021-06-23</td>\n",
       "      <td>1332.0</td>\n",
       "      <td>True</td>\n",
       "      <td>0.056121</td>\n",
       "    </tr>\n",
       "    <tr>\n",
       "      <th>1</th>\n",
       "      <td>15670</td>\n",
       "      <td>86082</td>\n",
       "      <td>FUoqAn5T4h4</td>\n",
       "      <td>L’Accord - Chamber Agent Trailer // VALORANT</td>\n",
       "      <td>2021-10-29 15:00:08+00:00</td>\n",
       "      <td>UC8CX0LD98EDXl4UYX1MDCXg</td>\n",
       "      <td>VALORANT</td>\n",
       "      <td>20</td>\n",
       "      <td>2021-10-30</td>\n",
       "      <td>Chamber|New Agent|VALORANT Episode 3|Episode I...</td>\n",
       "      <td>...</td>\n",
       "      <td>443</td>\n",
       "      <td>6913</td>\n",
       "      <td>https://i.ytimg.com/vi/FUoqAn5T4h4/default.jpg</td>\n",
       "      <td>False</td>\n",
       "      <td>False</td>\n",
       "      <td>Questions answered. Futures revealed. Bienvenu...</td>\n",
       "      <td>FUoqAn5T4h4_2021-10-30</td>\n",
       "      <td>97.0</td>\n",
       "      <td>True</td>\n",
       "      <td>0.060390</td>\n",
       "    </tr>\n",
       "    <tr>\n",
       "      <th>2</th>\n",
       "      <td>7146</td>\n",
       "      <td>39812</td>\n",
       "      <td>cmMcOyg6rU0</td>\n",
       "      <td>No But...Did Gucci Beauty Finesse Me?! Their N...</td>\n",
       "      <td>2021-03-04 01:36:20+00:00</td>\n",
       "      <td>UCzJIliq68IHSn-Kwgjeg2AQ</td>\n",
       "      <td>Jackie Aina</td>\n",
       "      <td>26</td>\n",
       "      <td>2021-03-05</td>\n",
       "      <td>gucci beauty|gucci foundation|gucci beauty fou...</td>\n",
       "      <td>...</td>\n",
       "      <td>122</td>\n",
       "      <td>806</td>\n",
       "      <td>https://i.ytimg.com/vi/cmMcOyg6rU0/default.jpg</td>\n",
       "      <td>False</td>\n",
       "      <td>False</td>\n",
       "      <td>Hi guys! welcome back. Today I'll be experimen...</td>\n",
       "      <td>cmMcOyg6rU0_2021-03-05</td>\n",
       "      <td>1166.0</td>\n",
       "      <td>True</td>\n",
       "      <td>0.088190</td>\n",
       "    </tr>\n",
       "    <tr>\n",
       "      <th>3</th>\n",
       "      <td>9173</td>\n",
       "      <td>52790</td>\n",
       "      <td>lrAmpErQDlA</td>\n",
       "      <td>Among Us Logic: The Curse of Novisor (Cartoon ...</td>\n",
       "      <td>2021-05-08 17:00:31+00:00</td>\n",
       "      <td>UCToxKVrkEuAONR4rFIJ_DyQ</td>\n",
       "      <td>GameToons</td>\n",
       "      <td>1</td>\n",
       "      <td>2021-05-09</td>\n",
       "      <td>among us|among us logic|animation|funny animat...</td>\n",
       "      <td>...</td>\n",
       "      <td>809</td>\n",
       "      <td>8305</td>\n",
       "      <td>https://i.ytimg.com/vi/lrAmpErQDlA/default.jpg</td>\n",
       "      <td>False</td>\n",
       "      <td>False</td>\n",
       "      <td>► SUBSCRIBE to GameTunes! -https://www.youtube...</td>\n",
       "      <td>lrAmpErQDlA_2021-05-09</td>\n",
       "      <td>616.0</td>\n",
       "      <td>True</td>\n",
       "      <td>0.047602</td>\n",
       "    </tr>\n",
       "    <tr>\n",
       "      <th>4</th>\n",
       "      <td>12772</td>\n",
       "      <td>71495</td>\n",
       "      <td>JssFDDJ_E2g</td>\n",
       "      <td>Best way to make money in GTA 5 #shorts</td>\n",
       "      <td>2021-08-16 06:35:34+00:00</td>\n",
       "      <td>UCSQj0OHaSHAxSsTt8bpmSUw</td>\n",
       "      <td>eyszo</td>\n",
       "      <td>20</td>\n",
       "      <td>2021-08-18</td>\n",
       "      <td>[None]</td>\n",
       "      <td>...</td>\n",
       "      <td>1659</td>\n",
       "      <td>372</td>\n",
       "      <td>https://i.ytimg.com/vi/JssFDDJ_E2g/default.jpg</td>\n",
       "      <td>False</td>\n",
       "      <td>False</td>\n",
       "      <td>#shorts #gta5​ #gta5funny​ #gta5funnymoments​ ...</td>\n",
       "      <td>JssFDDJ_E2g_2021-08-18</td>\n",
       "      <td>13.0</td>\n",
       "      <td>False</td>\n",
       "      <td>0.037915</td>\n",
       "    </tr>\n",
       "  </tbody>\n",
       "</table>\n",
       "<p>5 rows × 22 columns</p>\n",
       "</div>"
      ],
      "text/plain": [
       "   level_0  index     video_id  \\\n",
       "0    10711  60554  ZLbt0gPi5b0   \n",
       "1    15670  86082  FUoqAn5T4h4   \n",
       "2     7146  39812  cmMcOyg6rU0   \n",
       "3     9173  52790  lrAmpErQDlA   \n",
       "4    12772  71495  JssFDDJ_E2g   \n",
       "\n",
       "                                               title  \\\n",
       "0  Ariel Helwani’s next chapter(s). Here’s where ...   \n",
       "1       L’Accord - Chamber Agent Trailer // VALORANT   \n",
       "2  No But...Did Gucci Beauty Finesse Me?! Their N...   \n",
       "3  Among Us Logic: The Curse of Novisor (Cartoon ...   \n",
       "4            Best way to make money in GTA 5 #shorts   \n",
       "\n",
       "                publishedAt                 channelId   channelTitle  \\\n",
       "0 2021-06-21 14:00:29+00:00  UCVOdVp54jLrFhRUm4S29HeA  Ariel Helwani   \n",
       "1 2021-10-29 15:00:08+00:00  UC8CX0LD98EDXl4UYX1MDCXg       VALORANT   \n",
       "2 2021-03-04 01:36:20+00:00  UCzJIliq68IHSn-Kwgjeg2AQ    Jackie Aina   \n",
       "3 2021-05-08 17:00:31+00:00  UCToxKVrkEuAONR4rFIJ_DyQ      GameToons   \n",
       "4 2021-08-16 06:35:34+00:00  UCSQj0OHaSHAxSsTt8bpmSUw          eyszo   \n",
       "\n",
       "   categoryId trending_date  \\\n",
       "0          17    2021-06-23   \n",
       "1          20    2021-10-30   \n",
       "2          26    2021-03-05   \n",
       "3           1    2021-05-09   \n",
       "4          20    2021-08-18   \n",
       "\n",
       "                                                tags  ...  dislikes  \\\n",
       "0  ariel helwani|mma|the mma hour|the mixed marti...  ...       124   \n",
       "1  Chamber|New Agent|VALORANT Episode 3|Episode I...  ...       443   \n",
       "2  gucci beauty|gucci foundation|gucci beauty fou...  ...       122   \n",
       "3  among us|among us logic|animation|funny animat...  ...       809   \n",
       "4                                             [None]  ...      1659   \n",
       "\n",
       "   comment_count                                  thumbnail_link  \\\n",
       "0            929  https://i.ytimg.com/vi/ZLbt0gPi5b0/default.jpg   \n",
       "1           6913  https://i.ytimg.com/vi/FUoqAn5T4h4/default.jpg   \n",
       "2            806  https://i.ytimg.com/vi/cmMcOyg6rU0/default.jpg   \n",
       "3           8305  https://i.ytimg.com/vi/lrAmpErQDlA/default.jpg   \n",
       "4            372  https://i.ytimg.com/vi/JssFDDJ_E2g/default.jpg   \n",
       "\n",
       "   comments_disabled ratings_disabled  \\\n",
       "0              False            False   \n",
       "1              False            False   \n",
       "2              False            False   \n",
       "3              False            False   \n",
       "4              False            False   \n",
       "\n",
       "                                         description                      id  \\\n",
       "0  Thank you for the support. I am extremely exci...  ZLbt0gPi5b0_2021-06-23   \n",
       "1  Questions answered. Futures revealed. Bienvenu...  FUoqAn5T4h4_2021-10-30   \n",
       "2  Hi guys! welcome back. Today I'll be experimen...  cmMcOyg6rU0_2021-03-05   \n",
       "3  ► SUBSCRIBE to GameTunes! -https://www.youtube...  lrAmpErQDlA_2021-05-09   \n",
       "4  #shorts #gta5​ #gta5funny​ #gta5funnymoments​ ...  JssFDDJ_E2g_2021-08-18   \n",
       "\n",
       "  duration_seconds has_thumbnail    target  \n",
       "0           1332.0          True  0.056121  \n",
       "1             97.0          True  0.060390  \n",
       "2           1166.0          True  0.088190  \n",
       "3            616.0          True  0.047602  \n",
       "4             13.0         False  0.037915  \n",
       "\n",
       "[5 rows x 22 columns]"
      ]
     },
     "execution_count": 8,
     "metadata": {},
     "output_type": "execute_result"
    }
   ],
   "source": [
    "train_df = df.sample(frac=0.8,random_state=200)\n",
    "test_df = df.drop(train_df.index)\n",
    "\n",
    "train_df = train_df.reset_index()\n",
    "test_df = test_df.reset_index()\n",
    "\n",
    "df = None\n",
    "\n",
    "train_df.head()"
   ]
  },
  {
   "cell_type": "code",
   "execution_count": 9,
   "metadata": {
    "execution": {
     "iopub.execute_input": "2022-10-30T21:35:28.101512Z",
     "iopub.status.busy": "2022-10-30T21:35:28.101190Z",
     "iopub.status.idle": "2022-10-30T21:35:28.108877Z",
     "shell.execute_reply": "2022-10-30T21:35:28.107652Z",
     "shell.execute_reply.started": "2022-10-30T21:35:28.101484Z"
    }
   },
   "outputs": [
    {
     "name": "stdout",
     "output_type": "stream",
     "text": [
      "Train MSE Loss:2604344744754.3926\n",
      "Test MSE Loss:2652016202124.9946\n"
     ]
    }
   ],
   "source": [
    "model = RandomForestRegressor(max_depth=2, random_state=0)\n",
    "model.fit(train_df[[\"likes\", \"dislikes\", \"comment_count\"]], train_df[[\"view_count\"]].values.ravel())\n",
    "\n",
    "preds = model.predict(train_df[[\"likes\", \"dislikes\", \"comment_count\"]])\n",
    "org_train_score = mean_squared_error(train_df[[\"view_count\"]], preds + 1)\n",
    "print(f'Train MSE Loss:{org_train_score}')\n",
    "\n",
    "preds = model.predict(test_df[[\"likes\", \"dislikes\", \"comment_count\"]])\n",
    "org_test_score = mean_squared_error(test_df[[\"view_count\"]], preds + 1)\n",
    "print(f'Test MSE Loss:{org_test_score}')"
   ]
  },
  {
   "cell_type": "markdown",
   "metadata": {},
   "source": [
    "전처리 없이 예측시 낮은 성능을 나타낸다."
   ]
  },
  {
   "cell_type": "markdown",
   "metadata": {},
   "source": [
    "## 2. Numeric Data"
   ]
  },
  {
   "cell_type": "code",
   "execution_count": 10,
   "metadata": {
    "execution": {
     "iopub.execute_input": "2022-10-30T21:35:29.224621Z",
     "iopub.status.busy": "2022-10-30T21:35:29.223582Z",
     "iopub.status.idle": "2022-10-30T21:35:32.748229Z",
     "shell.execute_reply": "2022-10-30T21:35:32.747085Z",
     "shell.execute_reply.started": "2022-10-30T21:35:29.224582Z"
    }
   },
   "outputs": [
    {
     "data": {
      "image/png": "[encoded data removed]",
      "text/plain": [
       "<Figure size 1000x500 with 1 Axes>"
      ]
     },
     "metadata": {},
     "output_type": "display_data"
    }
   ],
   "source": [
    "titles = [\"likes\", \"dislikes\", \"comment_count\", \"view_count\"]\n",
    "\n",
    "plt.figure(figsize=(10, 5))\n",
    "\n",
    "sns.violinplot(data=train_df[titles])\n",
    "sns.boxplot(data=train_df[titles])\n",
    "plt.show()"
   ]
  },
  {
   "cell_type": "markdown",
   "metadata": {},
   "source": [
    "right skewed distribution으로 예측하기 힘든 데이터.  \n",
    "정규화를 위해 log를 취해보자\n",
    "\n",
    "$$ new\\_data = log(data) $$"
   ]
  },
  {
   "cell_type": "code",
   "execution_count": 11,
   "metadata": {},
   "outputs": [],
   "source": [
    "eps = 1\n",
    "train_df[titles] = np.log(train_df[titles] + eps)"
   ]
  },
  {
   "cell_type": "code",
   "execution_count": 12,
   "metadata": {
    "execution": {
     "iopub.execute_input": "2022-10-30T21:35:36.342678Z",
     "iopub.status.busy": "2022-10-30T21:35:36.341660Z",
     "iopub.status.idle": "2022-10-30T21:35:38.418786Z",
     "shell.execute_reply": "2022-10-30T21:35:38.417377Z",
     "shell.execute_reply.started": "2022-10-30T21:35:36.342640Z"
    }
   },
   "outputs": [
    {
     "data": {
      "image/png": "[encoded data removed]",
      "text/plain": [
       "<Figure size 1000x500 with 1 Axes>"
      ]
     },
     "metadata": {},
     "output_type": "display_data"
    }
   ],
   "source": [
    "plt.figure(figsize=(10, 5))\n",
    "\n",
    "sns.violinplot(data=train_df[titles])\n",
    "sns.boxplot(data=train_df[titles])\n",
    "plt.show()"
   ]
  },
  {
   "cell_type": "code",
   "execution_count": 13,
   "metadata": {},
   "outputs": [
    {
     "data": {
      "image/png": "[encoded data removed]",
      "text/plain": [
       "<Figure size 1000x500 with 1 Axes>"
      ]
     },
     "metadata": {},
     "output_type": "display_data"
    }
   ],
   "source": [
    "plt.figure(figsize=(10, 5))\n",
    "\n",
    "sns.violinplot(data=np.log(test_df[titles] + eps))\n",
    "sns.boxplot(data=np.log(test_df[titles] + eps))\n",
    "plt.show()"
   ]
  },
  {
   "cell_type": "code",
   "execution_count": 14,
   "metadata": {
    "execution": {
     "iopub.execute_input": "2022-10-30T21:35:38.421606Z",
     "iopub.status.busy": "2022-10-30T21:35:38.420612Z",
     "iopub.status.idle": "2022-10-30T21:35:38.429030Z",
     "shell.execute_reply": "2022-10-30T21:35:38.428116Z",
     "shell.execute_reply.started": "2022-10-30T21:35:38.421559Z"
    }
   },
   "outputs": [],
   "source": [
    "def split_outlier(df, fator=1.5):\n",
    "    Q1 = df.quantile(0.25)\n",
    "    Q3 = df.quantile(0.75)\n",
    "    IQR = Q3 - Q1\n",
    "    outlier_index = ((df < (Q1 - fator * IQR)) |(df > (Q3 + fator * IQR))).any(axis=1)\n",
    "    return df[~outlier_index], df[outlier_index]"
   ]
  },
  {
   "cell_type": "code",
   "execution_count": 15,
   "metadata": {
    "execution": {
     "iopub.execute_input": "2022-10-30T21:35:38.431414Z",
     "iopub.status.busy": "2022-10-30T21:35:38.430358Z",
     "iopub.status.idle": "2022-10-30T21:35:40.429512Z",
     "shell.execute_reply": "2022-10-30T21:35:40.428235Z",
     "shell.execute_reply.started": "2022-10-30T21:35:38.431375Z"
    }
   },
   "outputs": [
    {
     "data": {
      "image/png": "[encoded data removed]",
      "text/plain": [
       "<Figure size 2000x500 with 2 Axes>"
      ]
     },
     "metadata": {},
     "output_type": "display_data"
    }
   ],
   "source": [
    "plt.figure(figsize=(20, 5))\n",
    "\n",
    "outlier = train_df.copy()\n",
    "train_df[titles], outlier[titles] = split_outlier(train_df[titles], 1.5)\n",
    "train_df = train_df.dropna()\n",
    "outlier = outlier.dropna()\n",
    "\n",
    "# train_df[\"likes/dislikes\"] = train_df[\"likes\"] / train_df[\"dislikes\"]\n",
    "# outlier[\"likes/dislikes\"] = outlier[\"likes\"] / outlier[\"dislikes\"]\n",
    "\n",
    "# titles += [\"likes/dislikes\"]\n",
    "\n",
    "plt.subplot(121)\n",
    "sns.violinplot(data=train_df[titles])\n",
    "sns.boxplot(data=train_df[titles])\n",
    "\n",
    "plt.subplot(122)\n",
    "sns.violinplot(data=outlier[titles])\n",
    "sns.boxplot(data=outlier[titles])\n",
    "plt.show()"
   ]
  },
  {
   "cell_type": "code",
   "execution_count": 16,
   "metadata": {
    "execution": {
     "iopub.execute_input": "2022-10-30T21:35:43.627889Z",
     "iopub.status.busy": "2022-10-30T21:35:43.627559Z",
     "iopub.status.idle": "2022-10-30T21:35:43.909618Z",
     "shell.execute_reply": "2022-10-30T21:35:43.908372Z",
     "shell.execute_reply.started": "2022-10-30T21:35:43.627860Z"
    }
   },
   "outputs": [
    {
     "data": {
      "image/png": "[encoded data removed]",
      "text/plain": [
       "<Figure size 640x480 with 2 Axes>"
      ]
     },
     "metadata": {},
     "output_type": "display_data"
    }
   ],
   "source": [
    "sns.heatmap(train_df[titles].corr())\n",
    "plt.show()"
   ]
  },
  {
   "cell_type": "code",
   "execution_count": 17,
   "metadata": {},
   "outputs": [
    {
     "data": {
      "text/html": [
       "<div>\n",
       "<style scoped>\n",
       "    .dataframe tbody tr th:only-of-type {\n",
       "        vertical-align: middle;\n",
       "    }\n",
       "\n",
       "    .dataframe tbody tr th {\n",
       "        vertical-align: top;\n",
       "    }\n",
       "\n",
       "    .dataframe thead th {\n",
       "        text-align: right;\n",
       "    }\n",
       "</style>\n",
       "<table border=\"1\" class=\"dataframe\">\n",
       "  <thead>\n",
       "    <tr style=\"text-align: right;\">\n",
       "      <th></th>\n",
       "      <th>likes</th>\n",
       "      <th>dislikes</th>\n",
       "      <th>comment_count</th>\n",
       "      <th>view_count</th>\n",
       "    </tr>\n",
       "  </thead>\n",
       "  <tbody>\n",
       "    <tr>\n",
       "      <th>likes</th>\n",
       "      <td>1.000000</td>\n",
       "      <td>0.660848</td>\n",
       "      <td>0.759031</td>\n",
       "      <td>0.733827</td>\n",
       "    </tr>\n",
       "    <tr>\n",
       "      <th>dislikes</th>\n",
       "      <td>0.660848</td>\n",
       "      <td>1.000000</td>\n",
       "      <td>0.634855</td>\n",
       "      <td>0.777934</td>\n",
       "    </tr>\n",
       "    <tr>\n",
       "      <th>comment_count</th>\n",
       "      <td>0.759031</td>\n",
       "      <td>0.634855</td>\n",
       "      <td>1.000000</td>\n",
       "      <td>0.654685</td>\n",
       "    </tr>\n",
       "    <tr>\n",
       "      <th>view_count</th>\n",
       "      <td>0.733827</td>\n",
       "      <td>0.777934</td>\n",
       "      <td>0.654685</td>\n",
       "      <td>1.000000</td>\n",
       "    </tr>\n",
       "  </tbody>\n",
       "</table>\n",
       "</div>"
      ],
      "text/plain": [
       "                  likes  dislikes  comment_count  view_count\n",
       "likes          1.000000  0.660848       0.759031    0.733827\n",
       "dislikes       0.660848  1.000000       0.634855    0.777934\n",
       "comment_count  0.759031  0.634855       1.000000    0.654685\n",
       "view_count     0.733827  0.777934       0.654685    1.000000"
      ]
     },
     "execution_count": 17,
     "metadata": {},
     "output_type": "execute_result"
    }
   ],
   "source": [
    "train_df[titles].corr()"
   ]
  },
  {
   "cell_type": "code",
   "execution_count": 18,
   "metadata": {
    "execution": {
     "iopub.execute_input": "2022-10-30T21:35:43.911703Z",
     "iopub.status.busy": "2022-10-30T21:35:43.911216Z",
     "iopub.status.idle": "2022-10-30T21:35:43.916783Z",
     "shell.execute_reply": "2022-10-30T21:35:43.915691Z",
     "shell.execute_reply.started": "2022-10-30T21:35:43.911658Z"
    }
   },
   "outputs": [
    {
     "name": "stdout",
     "output_type": "stream",
     "text": [
      "Train MSE Loss:771082973656.2701\n",
      "Test MSE Loss:4000128585159.1685\n"
     ]
    }
   ],
   "source": [
    "model = RandomForestRegressor(max_depth=2, random_state=0)\n",
    "model.fit(train_df[[\"likes\", \"dislikes\", \"comment_count\"]], train_df[[\"view_count\"]].values.ravel())\n",
    "\n",
    "preds = model.predict(train_df[[\"likes\", \"dislikes\", \"comment_count\"]])\n",
    "log_train_score = mean_squared_error(np.exp(train_df[[\"view_count\"]]) - eps, np.exp(preds) - eps)\n",
    "print(f'Train MSE Loss:{log_train_score}')\n",
    "\n",
    "preds = model.predict(np.log(test_df[[\"likes\", \"dislikes\", \"comment_count\"]] + eps))\n",
    "log_test_score = mean_squared_error(test_df[[\"view_count\"]], np.exp(preds) - eps)\n",
    "print(f'Test MSE Loss:{log_test_score}')"
   ]
  },
  {
   "cell_type": "code",
   "execution_count": 19,
   "metadata": {},
   "outputs": [
    {
     "data": {
      "image/png": "[encoded data removed]",
      "text/plain": [
       "<Figure size 640x480 with 1 Axes>"
      ]
     },
     "metadata": {},
     "output_type": "display_data"
    }
   ],
   "source": [
    "x = np.arange(4)\n",
    "y = [org_train_score, org_test_score, log_train_score, log_test_score]\n",
    "xticks = [\"org_train_score\", \"org_test_score\", \"log_train_score\", \"log_test_score\"]\n",
    "\n",
    "plt.bar(x, y)\n",
    "plt.xticks(x, xticks)\n",
    "\n",
    "plt.show()"
   ]
  },
  {
   "cell_type": "markdown",
   "metadata": {},
   "source": [
    "## 3. Boolean data of numeric outlier"
   ]
  },
  {
   "cell_type": "code",
   "execution_count": 20,
   "metadata": {
    "execution": {
     "iopub.execute_input": "2022-10-30T21:35:28.110886Z",
     "iopub.status.busy": "2022-10-30T21:35:28.110372Z",
     "iopub.status.idle": "2022-10-30T21:35:28.121062Z",
     "shell.execute_reply": "2022-10-30T21:35:28.120020Z",
     "shell.execute_reply.started": "2022-10-30T21:35:28.110844Z"
    }
   },
   "outputs": [],
   "source": [
    "def plot_bool_column(df):\n",
    "    plt.figure(figsize=(10, 5))\n",
    "    plt.subplot(121)\n",
    "    df[\"comments_disabled\"].value_counts().plot.bar()\n",
    "\n",
    "    plt.title(\"Comment Disabled\")\n",
    "\n",
    "    plt.subplot(122)\n",
    "    df[\"ratings_disabled\"].value_counts().plot.bar()\n",
    "\n",
    "    plt.title(\"Rating Disabled\")\n",
    "    plt.show()"
   ]
  },
  {
   "cell_type": "code",
   "execution_count": 21,
   "metadata": {
    "execution": {
     "iopub.execute_input": "2022-10-30T21:35:28.125224Z",
     "iopub.status.busy": "2022-10-30T21:35:28.124772Z",
     "iopub.status.idle": "2022-10-30T21:35:28.134287Z",
     "shell.execute_reply": "2022-10-30T21:35:28.132996Z",
     "shell.execute_reply.started": "2022-10-30T21:35:28.125183Z"
    }
   },
   "outputs": [],
   "source": [
    "def print_bool_cross_correlation(df):\n",
    "    comments_false_df = pd.DataFrame(df[df[\"comments_disabled\"] == False][\"view_count\"].values)\n",
    "    comments_true_df = pd.DataFrame(df[df[\"comments_disabled\"] == True][\"view_count\"].values)\n",
    "\n",
    "    rating_false_df = pd.DataFrame(df[df[\"ratings_disabled\"] == False][\"view_count\"].values)\n",
    "    rating_true_df = pd.DataFrame(df[df[\"ratings_disabled\"] == True][\"view_count\"].values)\n",
    "\n",
    "    print(f\"Cross correlation of view count between True and False - Comment: {comments_false_df.corrwith(comments_true_df).values[0]}, Rating: {rating_false_df.corrwith(rating_true_df).values[0]}\")"
   ]
  },
  {
   "cell_type": "code",
   "execution_count": 22,
   "metadata": {},
   "outputs": [
    {
     "name": "stdout",
     "output_type": "stream",
     "text": [
      "Cross correlation of view count between True and False - Comment: 0.02168921091303098, Rating: -0.01893641686901178\n"
     ]
    }
   ],
   "source": [
    "temp = pd.read_parquet(\"/Users/aiel/Desktop/code/big_data/kaggle-pog-series-s01e01/train.parquet\")\n",
    "print_bool_cross_correlation(temp)"
   ]
  },
  {
   "cell_type": "code",
   "execution_count": 23,
   "metadata": {},
   "outputs": [
    {
     "data": {
      "image/png": "[encoded data removed]",
      "text/plain": [
       "<Figure size 1000x500 with 2 Axes>"
      ]
     },
     "metadata": {},
     "output_type": "display_data"
    }
   ],
   "source": [
    "plot_bool_column(temp)"
   ]
  },
  {
   "cell_type": "markdown",
   "metadata": {},
   "source": [
    "원본데이터는 True와 False 별 관련이 없음"
   ]
  },
  {
   "cell_type": "code",
   "execution_count": 24,
   "metadata": {
    "execution": {
     "iopub.execute_input": "2022-10-30T21:35:43.918625Z",
     "iopub.status.busy": "2022-10-30T21:35:43.918194Z",
     "iopub.status.idle": "2022-10-30T21:35:44.198573Z",
     "shell.execute_reply": "2022-10-30T21:35:44.197387Z",
     "shell.execute_reply.started": "2022-10-30T21:35:43.918593Z"
    }
   },
   "outputs": [
    {
     "data": {
      "image/png": "[encoded data removed]",
      "text/plain": [
       "<Figure size 1000x500 with 2 Axes>"
      ]
     },
     "metadata": {},
     "output_type": "display_data"
    }
   ],
   "source": [
    "plot_bool_column(train_df)"
   ]
  },
  {
   "cell_type": "markdown",
   "metadata": {},
   "source": [
    "numeric data의 이상치에 True가 모두 들어있음"
   ]
  },
  {
   "cell_type": "code",
   "execution_count": 25,
   "metadata": {
    "execution": {
     "iopub.execute_input": "2022-10-30T21:35:44.200253Z",
     "iopub.status.busy": "2022-10-30T21:35:44.199926Z",
     "iopub.status.idle": "2022-10-30T21:35:44.467408Z",
     "shell.execute_reply": "2022-10-30T21:35:44.466134Z",
     "shell.execute_reply.started": "2022-10-30T21:35:44.200224Z"
    }
   },
   "outputs": [
    {
     "data": {
      "image/png": "[encoded data removed]",
      "text/plain": [
       "<Figure size 1000x500 with 2 Axes>"
      ]
     },
     "metadata": {},
     "output_type": "display_data"
    }
   ],
   "source": [
    "plot_bool_column(outlier)"
   ]
  },
  {
   "cell_type": "markdown",
   "metadata": {},
   "source": [
    "outlier와 disable true관에 상관관계가 존재할 것이라 추정"
   ]
  },
  {
   "cell_type": "code",
   "execution_count": 26,
   "metadata": {
    "execution": {
     "iopub.execute_input": "2022-10-30T21:35:44.469892Z",
     "iopub.status.busy": "2022-10-30T21:35:44.469424Z",
     "iopub.status.idle": "2022-10-30T21:35:44.534242Z",
     "shell.execute_reply": "2022-10-30T21:35:44.533413Z",
     "shell.execute_reply.started": "2022-10-30T21:35:44.469850Z"
    }
   },
   "outputs": [
    {
     "name": "stdout",
     "output_type": "stream",
     "text": [
      "Cross correlation of view count between True and False - Comment: nan, Rating: nan\n"
     ]
    }
   ],
   "source": [
    "print_bool_cross_correlation(train_df)"
   ]
  },
  {
   "cell_type": "code",
   "execution_count": 27,
   "metadata": {
    "execution": {
     "iopub.execute_input": "2022-10-30T21:35:44.536685Z",
     "iopub.status.busy": "2022-10-30T21:35:44.535933Z",
     "iopub.status.idle": "2022-10-30T21:35:44.566930Z",
     "shell.execute_reply": "2022-10-30T21:35:44.565785Z",
     "shell.execute_reply.started": "2022-10-30T21:35:44.536639Z"
    }
   },
   "outputs": [
    {
     "name": "stdout",
     "output_type": "stream",
     "text": [
      "Cross correlation of view count between True and False - Comment: -0.007086531738740363, Rating: 0.1338145717043885\n"
     ]
    }
   ],
   "source": [
    "print_bool_cross_correlation(outlier)"
   ]
  },
  {
   "cell_type": "code",
   "execution_count": 28,
   "metadata": {
    "execution": {
     "iopub.execute_input": "2022-10-30T21:35:44.568964Z",
     "iopub.status.busy": "2022-10-30T21:35:44.568373Z",
     "iopub.status.idle": "2022-10-30T21:35:45.363520Z",
     "shell.execute_reply": "2022-10-30T21:35:45.362277Z",
     "shell.execute_reply.started": "2022-10-30T21:35:44.568930Z"
    }
   },
   "outputs": [
    {
     "name": "stderr",
     "output_type": "stream",
     "text": [
      "/var/folders/5x/5vg15xqj205c_t67bgrh20m00000gn/T/ipykernel_40745/2154716315.py:5: MatplotlibDeprecationWarning: Auto-removal of overlapping axes is deprecated since 3.6 and will be removed two minor releases later; explicitly call ax.remove() as needed.\n",
      "  plt.subplot(121)\n"
     ]
    },
    {
     "data": {
      "image/png": "[encoded data removed]",
      "text/plain": [
       "<Figure size 1000x500 with 2 Axes>"
      ]
     },
     "metadata": {},
     "output_type": "display_data"
    }
   ],
   "source": [
    "df = pd.read_parquet(\"/Users/aiel/Desktop/code/big_data/kaggle-pog-series-s01e01/train.parquet\")\n",
    "\n",
    "plt.figure(figsize=(10, 5))\n",
    "plt.ylim([11, 20])\n",
    "plt.subplot(121)\n",
    "sns.boxplot(np.log(train_df[train_df[\"comments_disabled\"] == True][[\"view_count\"]]))\n",
    "plt.title(\"Comment Disallowed\")\n",
    "\n",
    "plt.ylim([11, 20])\n",
    "plt.subplot(122)\n",
    "sns.boxplot(np.log(train_df[train_df[\"comments_disabled\"] == False][[\"view_count\"]]))\n",
    "plt.title(\"Comment Allowed\")\n",
    "\n",
    "plt.show()"
   ]
  },
  {
   "cell_type": "code",
   "execution_count": 29,
   "metadata": {
    "execution": {
     "iopub.execute_input": "2022-10-30T21:35:45.366375Z",
     "iopub.status.busy": "2022-10-30T21:35:45.365882Z",
     "iopub.status.idle": "2022-10-30T21:35:45.601491Z",
     "shell.execute_reply": "2022-10-30T21:35:45.600289Z",
     "shell.execute_reply.started": "2022-10-30T21:35:45.366302Z"
    }
   },
   "outputs": [
    {
     "name": "stderr",
     "output_type": "stream",
     "text": [
      "/var/folders/5x/5vg15xqj205c_t67bgrh20m00000gn/T/ipykernel_40745/3021999338.py:4: MatplotlibDeprecationWarning: Auto-removal of overlapping axes is deprecated since 3.6 and will be removed two minor releases later; explicitly call ax.remove() as needed.\n",
      "  plt.subplot(121)\n"
     ]
    },
    {
     "data": {
      "image/png": "[encoded data removed]",
      "text/plain": [
       "<Figure size 1000x500 with 2 Axes>"
      ]
     },
     "metadata": {},
     "output_type": "display_data"
    }
   ],
   "source": [
    "plt.figure(figsize=(10, 5))\n",
    "\n",
    "plt.ylim([11, 20])\n",
    "plt.subplot(121)\n",
    "sns.boxplot(np.log(train_df[train_df[\"ratings_disabled\"] == True][[\"view_count\"]]))\n",
    "plt.title(\"Comment Disallowed\")\n",
    "\n",
    "plt.ylim([11, 20])\n",
    "plt.subplot(122)\n",
    "sns.boxplot(np.log(train_df[train_df[\"ratings_disabled\"] == False][[\"view_count\"]]))\n",
    "plt.title(\"Comment Allowed\")\n",
    "\n",
    "plt.show()"
   ]
  },
  {
   "cell_type": "code",
   "execution_count": 30,
   "metadata": {},
   "outputs": [
    {
     "data": {
      "text/html": [
       "<div>\n",
       "<style scoped>\n",
       "    .dataframe tbody tr th:only-of-type {\n",
       "        vertical-align: middle;\n",
       "    }\n",
       "\n",
       "    .dataframe tbody tr th {\n",
       "        vertical-align: top;\n",
       "    }\n",
       "\n",
       "    .dataframe thead th {\n",
       "        text-align: right;\n",
       "    }\n",
       "</style>\n",
       "<table border=\"1\" class=\"dataframe\">\n",
       "  <thead>\n",
       "    <tr style=\"text-align: right;\">\n",
       "      <th></th>\n",
       "      <th>publishedAt</th>\n",
       "      <th>trending_date</th>\n",
       "    </tr>\n",
       "  </thead>\n",
       "  <tbody>\n",
       "    <tr>\n",
       "      <th>0</th>\n",
       "      <td>2020-08-11 19:20:14+00:00</td>\n",
       "      <td>2020-08-12</td>\n",
       "    </tr>\n",
       "    <tr>\n",
       "      <th>1</th>\n",
       "      <td>2020-08-11 17:00:10+00:00</td>\n",
       "      <td>2020-08-12</td>\n",
       "    </tr>\n",
       "    <tr>\n",
       "      <th>2</th>\n",
       "      <td>2020-08-11 16:34:06+00:00</td>\n",
       "      <td>2020-08-12</td>\n",
       "    </tr>\n",
       "    <tr>\n",
       "      <th>3</th>\n",
       "      <td>2020-08-11 16:38:55+00:00</td>\n",
       "      <td>2020-08-12</td>\n",
       "    </tr>\n",
       "    <tr>\n",
       "      <th>4</th>\n",
       "      <td>2020-08-11 15:10:05+00:00</td>\n",
       "      <td>2020-08-12</td>\n",
       "    </tr>\n",
       "    <tr>\n",
       "      <th>...</th>\n",
       "      <td>...</td>\n",
       "      <td>...</td>\n",
       "    </tr>\n",
       "    <tr>\n",
       "      <th>92270</th>\n",
       "      <td>2021-11-23 19:13:46+00:00</td>\n",
       "      <td>2021-11-30</td>\n",
       "    </tr>\n",
       "    <tr>\n",
       "      <th>92271</th>\n",
       "      <td>2021-11-24 23:48:37+00:00</td>\n",
       "      <td>2021-11-30</td>\n",
       "    </tr>\n",
       "    <tr>\n",
       "      <th>92272</th>\n",
       "      <td>2021-11-23 22:50:19+00:00</td>\n",
       "      <td>2021-11-30</td>\n",
       "    </tr>\n",
       "    <tr>\n",
       "      <th>92273</th>\n",
       "      <td>2021-11-21 21:15:16+00:00</td>\n",
       "      <td>2021-11-30</td>\n",
       "    </tr>\n",
       "    <tr>\n",
       "      <th>92274</th>\n",
       "      <td>2021-11-24 16:21:04+00:00</td>\n",
       "      <td>2021-11-30</td>\n",
       "    </tr>\n",
       "  </tbody>\n",
       "</table>\n",
       "<p>92275 rows × 2 columns</p>\n",
       "</div>"
      ],
      "text/plain": [
       "                    publishedAt trending_date\n",
       "0     2020-08-11 19:20:14+00:00    2020-08-12\n",
       "1     2020-08-11 17:00:10+00:00    2020-08-12\n",
       "2     2020-08-11 16:34:06+00:00    2020-08-12\n",
       "3     2020-08-11 16:38:55+00:00    2020-08-12\n",
       "4     2020-08-11 15:10:05+00:00    2020-08-12\n",
       "...                         ...           ...\n",
       "92270 2021-11-23 19:13:46+00:00    2021-11-30\n",
       "92271 2021-11-24 23:48:37+00:00    2021-11-30\n",
       "92272 2021-11-23 22:50:19+00:00    2021-11-30\n",
       "92273 2021-11-21 21:15:16+00:00    2021-11-30\n",
       "92274 2021-11-24 16:21:04+00:00    2021-11-30\n",
       "\n",
       "[92275 rows x 2 columns]"
      ]
     },
     "execution_count": 30,
     "metadata": {},
     "output_type": "execute_result"
    }
   ],
   "source": [
    "df[[\"publishedAt\", \"trending_date\"]]"
   ]
  },
  {
   "cell_type": "code",
   "execution_count": 31,
   "metadata": {},
   "outputs": [
    {
     "data": {
      "text/plain": [
       "0        315\n",
       "1        444\n",
       "2        205\n",
       "3        270\n",
       "4        371\n",
       "        ... \n",
       "12976    117\n",
       "12977    234\n",
       "12978     98\n",
       "12979    266\n",
       "12980    -12\n",
       "Name: trand_duration, Length: 12232, dtype: int64"
      ]
     },
     "execution_count": 31,
     "metadata": {},
     "output_type": "execute_result"
    }
   ],
   "source": [
    "train_df[\"trand_duration\"] = train_df[\"trending_date\"].dt.tz_localize(None) - df[\"publishedAt\"].dt.tz_localize(None)\n",
    "train_df[\"trand_duration\"] = train_df[\"trand_duration\"].dt.days\n",
    "train_df[\"trand_duration\"]"
   ]
  },
  {
   "cell_type": "code",
   "execution_count": 32,
   "metadata": {
    "execution": {
     "iopub.execute_input": "2022-10-30T21:35:45.603485Z",
     "iopub.status.busy": "2022-10-30T21:35:45.603052Z",
     "iopub.status.idle": "2022-10-30T21:35:45.620544Z",
     "shell.execute_reply": "2022-10-30T21:35:45.619304Z",
     "shell.execute_reply.started": "2022-10-30T21:35:45.603446Z"
    }
   },
   "outputs": [
    {
     "data": {
      "text/plain": [
       "NFL                       612\n",
       "NBA                       564\n",
       "SSSniperWolf              480\n",
       "MrBeast Gaming            380\n",
       "SSundee                   360\n",
       "                         ... \n",
       "NEEDTOBREATHE               1\n",
       "Eddie 'The Beast' Hall      1\n",
       "Galantis                    1\n",
       "Roadshow                    1\n",
       "WickedBinge                 1\n",
       "Name: channelTitle, Length: 4632, dtype: int64"
      ]
     },
     "execution_count": 32,
     "metadata": {},
     "output_type": "execute_result"
    }
   ],
   "source": [
    "df[\"channelTitle\"].value_counts()"
   ]
  },
  {
   "cell_type": "code",
   "execution_count": 33,
   "metadata": {
    "execution": {
     "iopub.execute_input": "2022-10-30T21:35:45.622070Z",
     "iopub.status.busy": "2022-10-30T21:35:45.621703Z",
     "iopub.status.idle": "2022-10-30T21:35:45.638307Z",
     "shell.execute_reply": "2022-10-30T21:35:45.636811Z",
     "shell.execute_reply.started": "2022-10-30T21:35:45.622036Z"
    }
   },
   "outputs": [
    {
     "data": {
      "text/plain": [
       "'num channels: 3748, df length: 12232'"
      ]
     },
     "execution_count": 33,
     "metadata": {},
     "output_type": "execute_result"
    }
   ],
   "source": [
    "num_channels = len(train_df[\"channelTitle\"].value_counts())\n",
    "df_len = len(train_df)\n",
    "\n",
    "f\"num channels: {num_channels}, df length: {df_len}\" "
   ]
  },
  {
   "cell_type": "code",
   "execution_count": 34,
   "metadata": {
    "execution": {
     "iopub.execute_input": "2022-10-30T21:35:45.640001Z",
     "iopub.status.busy": "2022-10-30T21:35:45.639590Z",
     "iopub.status.idle": "2022-10-30T21:35:45.669653Z",
     "shell.execute_reply": "2022-10-30T21:35:45.668660Z",
     "shell.execute_reply.started": "2022-10-30T21:35:45.639966Z"
    }
   },
   "outputs": [
    {
     "data": {
      "text/plain": [
       "10919"
      ]
     },
     "execution_count": 34,
     "metadata": {},
     "output_type": "execute_result"
    }
   ],
   "source": [
    "len(train_df[train_df[\"has_thumbnail\"] == True])"
   ]
  },
  {
   "cell_type": "code",
   "execution_count": 35,
   "metadata": {},
   "outputs": [
    {
     "data": {
      "text/plain": [
       "True     75306\n",
       "False    16969\n",
       "Name: video_id, dtype: int64"
      ]
     },
     "execution_count": 35,
     "metadata": {},
     "output_type": "execute_result"
    }
   ],
   "source": [
    "df = pd.read_parquet(\"/Users/aiel/Desktop/code/big_data/kaggle-pog-series-s01e01/train.parquet\")\n",
    "df[\"video_id\"].duplicated().value_counts()"
   ]
  },
  {
   "cell_type": "code",
   "execution_count": 36,
   "metadata": {},
   "outputs": [
    {
     "data": {
      "text/html": [
       "<div>\n",
       "<style scoped>\n",
       "    .dataframe tbody tr th:only-of-type {\n",
       "        vertical-align: middle;\n",
       "    }\n",
       "\n",
       "    .dataframe tbody tr th {\n",
       "        vertical-align: top;\n",
       "    }\n",
       "\n",
       "    .dataframe thead th {\n",
       "        text-align: right;\n",
       "    }\n",
       "</style>\n",
       "<table border=\"1\" class=\"dataframe\">\n",
       "  <thead>\n",
       "    <tr style=\"text-align: right;\">\n",
       "      <th></th>\n",
       "      <th>video_id</th>\n",
       "      <th>title</th>\n",
       "      <th>publishedAt</th>\n",
       "      <th>channelId</th>\n",
       "      <th>channelTitle</th>\n",
       "      <th>categoryId</th>\n",
       "      <th>trending_date</th>\n",
       "      <th>tags</th>\n",
       "      <th>view_count</th>\n",
       "      <th>likes</th>\n",
       "      <th>dislikes</th>\n",
       "      <th>comment_count</th>\n",
       "      <th>thumbnail_link</th>\n",
       "      <th>comments_disabled</th>\n",
       "      <th>ratings_disabled</th>\n",
       "      <th>description</th>\n",
       "      <th>id</th>\n",
       "      <th>duration_seconds</th>\n",
       "      <th>has_thumbnail</th>\n",
       "      <th>target</th>\n",
       "    </tr>\n",
       "  </thead>\n",
       "  <tbody>\n",
       "    <tr>\n",
       "      <th>0</th>\n",
       "      <td>3C66w5Z0ixs</td>\n",
       "      <td>I ASKED HER TO BE MY GIRLFRIEND...</td>\n",
       "      <td>2020-08-11 19:20:14+00:00</td>\n",
       "      <td>UCvtRTOMP2TqYqu51xNrqAzg</td>\n",
       "      <td>Brawadis</td>\n",
       "      <td>22</td>\n",
       "      <td>2020-08-12</td>\n",
       "      <td>brawadis|prank|basketball|skits|ghost|funny vi...</td>\n",
       "      <td>1514614</td>\n",
       "      <td>156908</td>\n",
       "      <td>5855</td>\n",
       "      <td>35313</td>\n",
       "      <td>https://i.ytimg.com/vi/3C66w5Z0ixs/default.jpg</td>\n",
       "      <td>False</td>\n",
       "      <td>False</td>\n",
       "      <td>SUBSCRIBE to BRAWADIS ▶ http://bit.ly/Subscrib...</td>\n",
       "      <td>3C66w5Z0ixs_2020-08-12</td>\n",
       "      <td>NaN</td>\n",
       "      <td>True</td>\n",
       "      <td>0.103596</td>\n",
       "    </tr>\n",
       "    <tr>\n",
       "      <th>202</th>\n",
       "      <td>3C66w5Z0ixs</td>\n",
       "      <td>I ASKED HER TO BE MY GIRLFRIEND...</td>\n",
       "      <td>2020-08-11 19:20:14+00:00</td>\n",
       "      <td>UCvtRTOMP2TqYqu51xNrqAzg</td>\n",
       "      <td>Brawadis</td>\n",
       "      <td>22</td>\n",
       "      <td>2020-08-13</td>\n",
       "      <td>brawadis|prank|basketball|skits|ghost|funny vi...</td>\n",
       "      <td>3017834</td>\n",
       "      <td>183592</td>\n",
       "      <td>9506</td>\n",
       "      <td>41374</td>\n",
       "      <td>https://i.ytimg.com/vi/3C66w5Z0ixs/default.jpg</td>\n",
       "      <td>False</td>\n",
       "      <td>False</td>\n",
       "      <td>SUBSCRIBE to BRAWADIS ▶ http://bit.ly/Subscrib...</td>\n",
       "      <td>3C66w5Z0ixs_2020-08-13</td>\n",
       "      <td>NaN</td>\n",
       "      <td>True</td>\n",
       "      <td>0.060836</td>\n",
       "    </tr>\n",
       "    <tr>\n",
       "      <th>431</th>\n",
       "      <td>3C66w5Z0ixs</td>\n",
       "      <td>I ASKED HER TO BE MY GIRLFRIEND...</td>\n",
       "      <td>2020-08-11 19:20:14+00:00</td>\n",
       "      <td>UCvtRTOMP2TqYqu51xNrqAzg</td>\n",
       "      <td>Brawadis</td>\n",
       "      <td>22</td>\n",
       "      <td>2020-08-14</td>\n",
       "      <td>brawadis|prank|basketball|skits|ghost|funny vi...</td>\n",
       "      <td>3721729</td>\n",
       "      <td>195344</td>\n",
       "      <td>10648</td>\n",
       "      <td>44555</td>\n",
       "      <td>https://i.ytimg.com/vi/3C66w5Z0ixs/default.jpg</td>\n",
       "      <td>False</td>\n",
       "      <td>False</td>\n",
       "      <td>SUBSCRIBE to BRAWADIS ▶ http://bit.ly/Subscrib...</td>\n",
       "      <td>3C66w5Z0ixs_2020-08-14</td>\n",
       "      <td>NaN</td>\n",
       "      <td>True</td>\n",
       "      <td>0.052487</td>\n",
       "    </tr>\n",
       "    <tr>\n",
       "      <th>646</th>\n",
       "      <td>3C66w5Z0ixs</td>\n",
       "      <td>I ASKED HER TO BE MY GIRLFRIEND...</td>\n",
       "      <td>2020-08-11 19:20:14+00:00</td>\n",
       "      <td>UCvtRTOMP2TqYqu51xNrqAzg</td>\n",
       "      <td>Brawadis</td>\n",
       "      <td>22</td>\n",
       "      <td>2020-08-15</td>\n",
       "      <td>brawadis|prank|basketball|skits|ghost|funny vi...</td>\n",
       "      <td>3853404</td>\n",
       "      <td>200215</td>\n",
       "      <td>10904</td>\n",
       "      <td>45461</td>\n",
       "      <td>https://i.ytimg.com/vi/3C66w5Z0ixs/default.jpg</td>\n",
       "      <td>False</td>\n",
       "      <td>False</td>\n",
       "      <td>SUBSCRIBE to BRAWADIS ▶ http://bit.ly/Subscrib...</td>\n",
       "      <td>3C66w5Z0ixs_2020-08-15</td>\n",
       "      <td>NaN</td>\n",
       "      <td>True</td>\n",
       "      <td>0.051958</td>\n",
       "    </tr>\n",
       "    <tr>\n",
       "      <th>895</th>\n",
       "      <td>3C66w5Z0ixs</td>\n",
       "      <td>I ASKED HER TO BE MY GIRLFRIEND...</td>\n",
       "      <td>2020-08-11 19:20:14+00:00</td>\n",
       "      <td>UCvtRTOMP2TqYqu51xNrqAzg</td>\n",
       "      <td>Brawadis</td>\n",
       "      <td>22</td>\n",
       "      <td>2020-08-16</td>\n",
       "      <td>brawadis|prank|basketball|skits|ghost|funny vi...</td>\n",
       "      <td>3898795</td>\n",
       "      <td>201808</td>\n",
       "      <td>10975</td>\n",
       "      <td>45574</td>\n",
       "      <td>https://i.ytimg.com/vi/3C66w5Z0ixs/default.jpg</td>\n",
       "      <td>False</td>\n",
       "      <td>False</td>\n",
       "      <td>SUBSCRIBE to BRAWADIS ▶ http://bit.ly/Subscrib...</td>\n",
       "      <td>3C66w5Z0ixs_2020-08-16</td>\n",
       "      <td>NaN</td>\n",
       "      <td>True</td>\n",
       "      <td>0.051762</td>\n",
       "    </tr>\n",
       "    <tr>\n",
       "      <th>1149</th>\n",
       "      <td>3C66w5Z0ixs</td>\n",
       "      <td>I ASKED HER TO BE MY GIRLFRIEND...</td>\n",
       "      <td>2020-08-11 19:20:14+00:00</td>\n",
       "      <td>UCvtRTOMP2TqYqu51xNrqAzg</td>\n",
       "      <td>Brawadis</td>\n",
       "      <td>22</td>\n",
       "      <td>2020-08-17</td>\n",
       "      <td>brawadis|prank|basketball|skits|ghost|funny vi...</td>\n",
       "      <td>3929527</td>\n",
       "      <td>203054</td>\n",
       "      <td>11026</td>\n",
       "      <td>45488</td>\n",
       "      <td>https://i.ytimg.com/vi/3C66w5Z0ixs/default.jpg</td>\n",
       "      <td>False</td>\n",
       "      <td>False</td>\n",
       "      <td>SUBSCRIBE to BRAWADIS ▶ http://bit.ly/Subscrib...</td>\n",
       "      <td>3C66w5Z0ixs_2020-08-17</td>\n",
       "      <td>NaN</td>\n",
       "      <td>True</td>\n",
       "      <td>0.051674</td>\n",
       "    </tr>\n",
       "    <tr>\n",
       "      <th>1392</th>\n",
       "      <td>3C66w5Z0ixs</td>\n",
       "      <td>I ASKED HER TO BE MY GIRLFRIEND...</td>\n",
       "      <td>2020-08-11 19:20:14+00:00</td>\n",
       "      <td>UCvtRTOMP2TqYqu51xNrqAzg</td>\n",
       "      <td>Brawadis</td>\n",
       "      <td>22</td>\n",
       "      <td>2020-08-18</td>\n",
       "      <td>brawadis|prank|basketball|skits|ghost|funny vi...</td>\n",
       "      <td>3958226</td>\n",
       "      <td>204260</td>\n",
       "      <td>11070</td>\n",
       "      <td>45134</td>\n",
       "      <td>https://i.ytimg.com/vi/3C66w5Z0ixs/default.jpg</td>\n",
       "      <td>False</td>\n",
       "      <td>False</td>\n",
       "      <td>SUBSCRIBE to BRAWADIS ▶ http://bit.ly/Subscrib...</td>\n",
       "      <td>3C66w5Z0ixs_2020-08-18</td>\n",
       "      <td>NaN</td>\n",
       "      <td>True</td>\n",
       "      <td>0.051604</td>\n",
       "    </tr>\n",
       "  </tbody>\n",
       "</table>\n",
       "</div>"
      ],
      "text/plain": [
       "         video_id                               title  \\\n",
       "0     3C66w5Z0ixs  I ASKED HER TO BE MY GIRLFRIEND...   \n",
       "202   3C66w5Z0ixs  I ASKED HER TO BE MY GIRLFRIEND...   \n",
       "431   3C66w5Z0ixs  I ASKED HER TO BE MY GIRLFRIEND...   \n",
       "646   3C66w5Z0ixs  I ASKED HER TO BE MY GIRLFRIEND...   \n",
       "895   3C66w5Z0ixs  I ASKED HER TO BE MY GIRLFRIEND...   \n",
       "1149  3C66w5Z0ixs  I ASKED HER TO BE MY GIRLFRIEND...   \n",
       "1392  3C66w5Z0ixs  I ASKED HER TO BE MY GIRLFRIEND...   \n",
       "\n",
       "                   publishedAt                 channelId channelTitle  \\\n",
       "0    2020-08-11 19:20:14+00:00  UCvtRTOMP2TqYqu51xNrqAzg     Brawadis   \n",
       "202  2020-08-11 19:20:14+00:00  UCvtRTOMP2TqYqu51xNrqAzg     Brawadis   \n",
       "431  2020-08-11 19:20:14+00:00  UCvtRTOMP2TqYqu51xNrqAzg     Brawadis   \n",
       "646  2020-08-11 19:20:14+00:00  UCvtRTOMP2TqYqu51xNrqAzg     Brawadis   \n",
       "895  2020-08-11 19:20:14+00:00  UCvtRTOMP2TqYqu51xNrqAzg     Brawadis   \n",
       "1149 2020-08-11 19:20:14+00:00  UCvtRTOMP2TqYqu51xNrqAzg     Brawadis   \n",
       "1392 2020-08-11 19:20:14+00:00  UCvtRTOMP2TqYqu51xNrqAzg     Brawadis   \n",
       "\n",
       "      categoryId trending_date  \\\n",
       "0             22    2020-08-12   \n",
       "202           22    2020-08-13   \n",
       "431           22    2020-08-14   \n",
       "646           22    2020-08-15   \n",
       "895           22    2020-08-16   \n",
       "1149          22    2020-08-17   \n",
       "1392          22    2020-08-18   \n",
       "\n",
       "                                                   tags  view_count   likes  \\\n",
       "0     brawadis|prank|basketball|skits|ghost|funny vi...     1514614  156908   \n",
       "202   brawadis|prank|basketball|skits|ghost|funny vi...     3017834  183592   \n",
       "431   brawadis|prank|basketball|skits|ghost|funny vi...     3721729  195344   \n",
       "646   brawadis|prank|basketball|skits|ghost|funny vi...     3853404  200215   \n",
       "895   brawadis|prank|basketball|skits|ghost|funny vi...     3898795  201808   \n",
       "1149  brawadis|prank|basketball|skits|ghost|funny vi...     3929527  203054   \n",
       "1392  brawadis|prank|basketball|skits|ghost|funny vi...     3958226  204260   \n",
       "\n",
       "      dislikes  comment_count                                  thumbnail_link  \\\n",
       "0         5855          35313  https://i.ytimg.com/vi/3C66w5Z0ixs/default.jpg   \n",
       "202       9506          41374  https://i.ytimg.com/vi/3C66w5Z0ixs/default.jpg   \n",
       "431      10648          44555  https://i.ytimg.com/vi/3C66w5Z0ixs/default.jpg   \n",
       "646      10904          45461  https://i.ytimg.com/vi/3C66w5Z0ixs/default.jpg   \n",
       "895      10975          45574  https://i.ytimg.com/vi/3C66w5Z0ixs/default.jpg   \n",
       "1149     11026          45488  https://i.ytimg.com/vi/3C66w5Z0ixs/default.jpg   \n",
       "1392     11070          45134  https://i.ytimg.com/vi/3C66w5Z0ixs/default.jpg   \n",
       "\n",
       "      comments_disabled  ratings_disabled  \\\n",
       "0                 False             False   \n",
       "202               False             False   \n",
       "431               False             False   \n",
       "646               False             False   \n",
       "895               False             False   \n",
       "1149              False             False   \n",
       "1392              False             False   \n",
       "\n",
       "                                            description  \\\n",
       "0     SUBSCRIBE to BRAWADIS ▶ http://bit.ly/Subscrib...   \n",
       "202   SUBSCRIBE to BRAWADIS ▶ http://bit.ly/Subscrib...   \n",
       "431   SUBSCRIBE to BRAWADIS ▶ http://bit.ly/Subscrib...   \n",
       "646   SUBSCRIBE to BRAWADIS ▶ http://bit.ly/Subscrib...   \n",
       "895   SUBSCRIBE to BRAWADIS ▶ http://bit.ly/Subscrib...   \n",
       "1149  SUBSCRIBE to BRAWADIS ▶ http://bit.ly/Subscrib...   \n",
       "1392  SUBSCRIBE to BRAWADIS ▶ http://bit.ly/Subscrib...   \n",
       "\n",
       "                          id  duration_seconds  has_thumbnail    target  \n",
       "0     3C66w5Z0ixs_2020-08-12               NaN           True  0.103596  \n",
       "202   3C66w5Z0ixs_2020-08-13               NaN           True  0.060836  \n",
       "431   3C66w5Z0ixs_2020-08-14               NaN           True  0.052487  \n",
       "646   3C66w5Z0ixs_2020-08-15               NaN           True  0.051958  \n",
       "895   3C66w5Z0ixs_2020-08-16               NaN           True  0.051762  \n",
       "1149  3C66w5Z0ixs_2020-08-17               NaN           True  0.051674  \n",
       "1392  3C66w5Z0ixs_2020-08-18               NaN           True  0.051604  "
      ]
     },
     "execution_count": 36,
     "metadata": {},
     "output_type": "execute_result"
    }
   ],
   "source": [
    "df[df[\"video_id\"] == df[\"video_id\"][0]]"
   ]
  },
  {
   "cell_type": "code",
   "execution_count": 37,
   "metadata": {},
   "outputs": [
    {
     "data": {
      "text/plain": [
       "False    16969\n",
       "Name: video_id, dtype: int64"
      ]
     },
     "execution_count": 37,
     "metadata": {},
     "output_type": "execute_result"
    }
   ],
   "source": [
    "df = df.drop_duplicates([\"video_id\"])[:]\n",
    "df[\"video_id\"].duplicated().value_counts()"
   ]
  },
  {
   "cell_type": "code",
   "execution_count": null,
   "metadata": {},
   "outputs": [],
   "source": []
  }
 ],
 "metadata": {
  "kernelspec": {
   "display_name": "Python 3 (ipykernel)",
   "language": "python",
   "name": "python3"
  },
  "language_info": {
   "codemirror_mode": {
    "name": "ipython",
    "version": 3
   },
   "file_extension": ".py",
   "mimetype": "text/x-python",
   "name": "python",
   "nbconvert_exporter": "python",
   "pygments_lexer": "ipython3",
   "version": "3.9.13"
  }
 },
 "nbformat": 4,
 "nbformat_minor": 4
}
